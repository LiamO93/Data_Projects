{
 "cells": [
  {
   "cell_type": "code",
   "execution_count": 80,
   "metadata": {},
   "outputs": [],
   "source": [
    "#import python packages/libraries \n",
    "%matplotlib inline\n",
    "import pandas as pd #pandas\n",
    "import numpy as np #numpy\n",
    "import matplotlib.pyplot as plt #matplotlib\n",
    "import seaborn as sns #seaborn\n",
    "import plotly.express as px #plotly\n",
    "from sklearn.feature_selection import SelectKBest\n",
    "from sklearn.feature_selection import chi2\n",
    "from sklearn.ensemble import ExtraTreesClassifier\n",
    "import scipy\n",
    "from scipy.stats import chi2\n",
    "from scipy.stats import chi2_contingency\n",
    "from scipy.stats import pearsonr, spearmanr\n",
    "from sklearn.preprocessing import MinMaxScaler\n",
    "from sklearn.model_selection import GridSearchCV\n",
    "from sklearn.neural_network import MLPClassifier\n",
    "from sklearn.preprocessing import StandardScaler\n",
    "from sklearn import tree\n",
    "\n",
    "from sklearn.datasets import make_classification\n",
    "from  sklearn.linear_model import LogisticRegression\n",
    "from sklearn.model_selection import train_test_split\n",
    "from sklearn.metrics import roc_curve\n",
    "\n",
    "color = sns.color_palette()\n",
    "\n",
    "from sklearn.metrics import  precision_recall_curve, roc_auc_score, confusion_matrix, accuracy_score, recall_score, precision_score, f1_score,auc, roc_curve, plot_confusion_matrix"
   ]
  },
  {
   "cell_type": "code",
   "execution_count": 2,
   "metadata": {},
   "outputs": [
    {
     "name": "stdout",
     "output_type": "stream",
     "text": [
      "         id grade  annual_inc  short_emp  emp_length_num home_ownership  \\\n",
      "0  11454641     A      100000          1               1           RENT   \n",
      "1   9604874     A       83000          0               4            OWN   \n",
      "2   9684700     D       78000          0              11       MORTGAGE   \n",
      "3   9695736     D       37536          0               6       MORTGAGE   \n",
      "4   9795013     D       65000          0              11       MORTGAGE   \n",
      "\n",
      "     dti             purpose        term  last_delinq_none  \\\n",
      "0  26.27         credit_card   36 months                 1   \n",
      "1   5.39         credit_card   36 months                 0   \n",
      "2  18.45  debt_consolidation   60 months                 1   \n",
      "3  12.28             medical   60 months                 0   \n",
      "4  11.26  debt_consolidation   36 months                 0   \n",
      "\n",
      "   last_major_derog_none  revol_util  total_rec_late_fee  od_ratio  bad_loan  \n",
      "0                    NaN        43.2                 0.0  0.160624         0  \n",
      "1                    NaN        21.5                 0.0  0.810777         0  \n",
      "2                    NaN        46.3                 0.0  0.035147         1  \n",
      "3                    NaN        10.7                 0.0  0.534887         1  \n",
      "4                    NaN        15.2                 0.0  0.166500         0  \n"
     ]
    }
   ],
   "source": [
    "#read data from csv file and convert to data frame\n",
    "df_loan_dataset = pd.read_csv('/Users/liamoleary/GitHub/Data/lending_club_loan_dataset.csv')\n",
    "\n",
    "#print top 2 lines of dataframe \n",
    "print(df_loan_dataset.head(5))"
   ]
  },
  {
   "cell_type": "code",
   "execution_count": 3,
   "metadata": {},
   "outputs": [
    {
     "name": "stdout",
     "output_type": "stream",
     "text": [
      "<class 'pandas.core.frame.DataFrame'>\n",
      "RangeIndex: 20000 entries, 0 to 19999\n",
      "Data columns (total 15 columns):\n",
      " #   Column                 Non-Null Count  Dtype  \n",
      "---  ------                 --------------  -----  \n",
      " 0   id                     20000 non-null  int64  \n",
      " 1   grade                  20000 non-null  object \n",
      " 2   annual_inc             20000 non-null  int64  \n",
      " 3   short_emp              20000 non-null  int64  \n",
      " 4   emp_length_num         20000 non-null  int64  \n",
      " 5   home_ownership         18509 non-null  object \n",
      " 6   dti                    19846 non-null  float64\n",
      " 7   purpose                20000 non-null  object \n",
      " 8   term                   20000 non-null  object \n",
      " 9   last_delinq_none       20000 non-null  int64  \n",
      " 10  last_major_derog_none  574 non-null    float64\n",
      " 11  revol_util             20000 non-null  float64\n",
      " 12  total_rec_late_fee     20000 non-null  float64\n",
      " 13  od_ratio               20000 non-null  float64\n",
      " 14  bad_loan               20000 non-null  int64  \n",
      "dtypes: float64(5), int64(6), object(4)\n",
      "memory usage: 2.3+ MB\n",
      "None\n"
     ]
    }
   ],
   "source": [
    "#information on dataset - number of records, non-null columns and data types\n",
    "print(df_loan_dataset.info())"
   ]
  },
  {
   "cell_type": "code",
   "execution_count": 4,
   "metadata": {},
   "outputs": [
    {
     "name": "stdout",
     "output_type": "stream",
     "text": [
      "(20000, 15)\n"
     ]
    }
   ],
   "source": [
    "#shape of the dataset - rows and columns \n",
    "print(df_loan_dataset.shape)"
   ]
  },
  {
   "cell_type": "code",
   "execution_count": 5,
   "metadata": {},
   "outputs": [
    {
     "name": "stdout",
     "output_type": "stream",
     "text": [
      "(20000, 15)\n"
     ]
    }
   ],
   "source": [
    "#remove duplicates (if any)\n",
    "df_loan_dataset_1 = df_loan_dataset.drop_duplicates(keep='first')\n",
    "print(df_loan_dataset_1.shape)\n",
    "\n",
    "# same result as previous dataset which indicates there are no duplicates in our dataset "
   ]
  },
  {
   "cell_type": "code",
   "execution_count": 6,
   "metadata": {},
   "outputs": [
    {
     "data": {
      "text/html": [
       "<div>\n",
       "<style scoped>\n",
       "    .dataframe tbody tr th:only-of-type {\n",
       "        vertical-align: middle;\n",
       "    }\n",
       "\n",
       "    .dataframe tbody tr th {\n",
       "        vertical-align: top;\n",
       "    }\n",
       "\n",
       "    .dataframe thead th {\n",
       "        text-align: right;\n",
       "    }\n",
       "</style>\n",
       "<table border=\"1\" class=\"dataframe\">\n",
       "  <thead>\n",
       "    <tr style=\"text-align: right;\">\n",
       "      <th></th>\n",
       "      <th>id</th>\n",
       "      <th>annual_inc</th>\n",
       "      <th>short_emp</th>\n",
       "      <th>emp_length_num</th>\n",
       "      <th>dti</th>\n",
       "      <th>last_delinq_none</th>\n",
       "      <th>last_major_derog_none</th>\n",
       "      <th>revol_util</th>\n",
       "      <th>total_rec_late_fee</th>\n",
       "      <th>od_ratio</th>\n",
       "      <th>bad_loan</th>\n",
       "    </tr>\n",
       "  </thead>\n",
       "  <tbody>\n",
       "    <tr>\n",
       "      <th>count</th>\n",
       "      <td>20000.0</td>\n",
       "      <td>20000.0</td>\n",
       "      <td>20000.0</td>\n",
       "      <td>20000.0</td>\n",
       "      <td>19846.0</td>\n",
       "      <td>20000.0</td>\n",
       "      <td>574.0</td>\n",
       "      <td>20000.0</td>\n",
       "      <td>20000.0</td>\n",
       "      <td>20000.0</td>\n",
       "      <td>20000.0</td>\n",
       "    </tr>\n",
       "    <tr>\n",
       "      <th>mean</th>\n",
       "      <td>7590662.1</td>\n",
       "      <td>73349.6</td>\n",
       "      <td>0.1</td>\n",
       "      <td>6.8</td>\n",
       "      <td>16.6</td>\n",
       "      <td>0.5</td>\n",
       "      <td>0.8</td>\n",
       "      <td>56.0</td>\n",
       "      <td>0.3</td>\n",
       "      <td>0.5</td>\n",
       "      <td>0.2</td>\n",
       "    </tr>\n",
       "    <tr>\n",
       "      <th>std</th>\n",
       "      <td>1609593.3</td>\n",
       "      <td>45198.6</td>\n",
       "      <td>0.3</td>\n",
       "      <td>3.8</td>\n",
       "      <td>7.6</td>\n",
       "      <td>0.5</td>\n",
       "      <td>0.4</td>\n",
       "      <td>42.1</td>\n",
       "      <td>3.1</td>\n",
       "      <td>0.3</td>\n",
       "      <td>0.4</td>\n",
       "    </tr>\n",
       "    <tr>\n",
       "      <th>min</th>\n",
       "      <td>586040.0</td>\n",
       "      <td>8412.0</td>\n",
       "      <td>0.0</td>\n",
       "      <td>0.0</td>\n",
       "      <td>0.0</td>\n",
       "      <td>0.0</td>\n",
       "      <td>0.0</td>\n",
       "      <td>0.0</td>\n",
       "      <td>0.0</td>\n",
       "      <td>0.0</td>\n",
       "      <td>0.0</td>\n",
       "    </tr>\n",
       "    <tr>\n",
       "      <th>25%</th>\n",
       "      <td>6206282.8</td>\n",
       "      <td>47000.0</td>\n",
       "      <td>0.0</td>\n",
       "      <td>3.0</td>\n",
       "      <td>10.9</td>\n",
       "      <td>0.0</td>\n",
       "      <td>1.0</td>\n",
       "      <td>38.8</td>\n",
       "      <td>0.0</td>\n",
       "      <td>0.3</td>\n",
       "      <td>0.0</td>\n",
       "    </tr>\n",
       "    <tr>\n",
       "      <th>50%</th>\n",
       "      <td>7378896.5</td>\n",
       "      <td>65000.0</td>\n",
       "      <td>0.0</td>\n",
       "      <td>7.0</td>\n",
       "      <td>16.2</td>\n",
       "      <td>1.0</td>\n",
       "      <td>1.0</td>\n",
       "      <td>57.1</td>\n",
       "      <td>0.0</td>\n",
       "      <td>0.5</td>\n",
       "      <td>0.0</td>\n",
       "    </tr>\n",
       "    <tr>\n",
       "      <th>75%</th>\n",
       "      <td>8766234.8</td>\n",
       "      <td>88000.0</td>\n",
       "      <td>0.0</td>\n",
       "      <td>11.0</td>\n",
       "      <td>22.1</td>\n",
       "      <td>1.0</td>\n",
       "      <td>1.0</td>\n",
       "      <td>73.9</td>\n",
       "      <td>0.0</td>\n",
       "      <td>0.8</td>\n",
       "      <td>0.0</td>\n",
       "    </tr>\n",
       "    <tr>\n",
       "      <th>max</th>\n",
       "      <td>11454641.0</td>\n",
       "      <td>1000000.0</td>\n",
       "      <td>1.0</td>\n",
       "      <td>11.0</td>\n",
       "      <td>35.0</td>\n",
       "      <td>1.0</td>\n",
       "      <td>1.0</td>\n",
       "      <td>5010.0</td>\n",
       "      <td>96.5</td>\n",
       "      <td>1.0</td>\n",
       "      <td>1.0</td>\n",
       "    </tr>\n",
       "  </tbody>\n",
       "</table>\n",
       "</div>"
      ],
      "text/plain": [
       "               id  annual_inc  short_emp  emp_length_num      dti  \\\n",
       "count     20000.0     20000.0    20000.0         20000.0  19846.0   \n",
       "mean    7590662.1     73349.6        0.1             6.8     16.6   \n",
       "std     1609593.3     45198.6        0.3             3.8      7.6   \n",
       "min      586040.0      8412.0        0.0             0.0      0.0   \n",
       "25%     6206282.8     47000.0        0.0             3.0     10.9   \n",
       "50%     7378896.5     65000.0        0.0             7.0     16.2   \n",
       "75%     8766234.8     88000.0        0.0            11.0     22.1   \n",
       "max    11454641.0   1000000.0        1.0            11.0     35.0   \n",
       "\n",
       "       last_delinq_none  last_major_derog_none  revol_util  \\\n",
       "count           20000.0                  574.0     20000.0   \n",
       "mean                0.5                    0.8        56.0   \n",
       "std                 0.5                    0.4        42.1   \n",
       "min                 0.0                    0.0         0.0   \n",
       "25%                 0.0                    1.0        38.8   \n",
       "50%                 1.0                    1.0        57.1   \n",
       "75%                 1.0                    1.0        73.9   \n",
       "max                 1.0                    1.0      5010.0   \n",
       "\n",
       "       total_rec_late_fee  od_ratio  bad_loan  \n",
       "count             20000.0   20000.0   20000.0  \n",
       "mean                  0.3       0.5       0.2  \n",
       "std                   3.1       0.3       0.4  \n",
       "min                   0.0       0.0       0.0  \n",
       "25%                   0.0       0.3       0.0  \n",
       "50%                   0.0       0.5       0.0  \n",
       "75%                   0.0       0.8       0.0  \n",
       "max                  96.5       1.0       1.0  "
      ]
     },
     "execution_count": 6,
     "metadata": {},
     "output_type": "execute_result"
    }
   ],
   "source": [
    "#summary statistics for dataset (numeric variables) - count, mean, standard deviation, min, max and 25, 50 and 75th percentiles \n",
    "df_loan_dataset.describe().round(1)\n"
   ]
  },
  {
   "cell_type": "code",
   "execution_count": 7,
   "metadata": {},
   "outputs": [
    {
     "data": {
      "text/plain": [
       "id                       20000\n",
       "grade                        7\n",
       "annual_inc                2566\n",
       "short_emp                    2\n",
       "emp_length_num              12\n",
       "home_ownership               3\n",
       "dti                       3295\n",
       "purpose                     12\n",
       "term                         3\n",
       "last_delinq_none             2\n",
       "last_major_derog_none        2\n",
       "revol_util                1030\n",
       "total_rec_late_fee         166\n",
       "od_ratio                 20000\n",
       "bad_loan                     2\n",
       "dtype: int64"
      ]
     },
     "execution_count": 7,
     "metadata": {},
     "output_type": "execute_result"
    }
   ],
   "source": [
    "#count the number of unique values \n",
    "df_loan_dataset.nunique()   "
   ]
  },
  {
   "cell_type": "code",
   "execution_count": 8,
   "metadata": {},
   "outputs": [
    {
     "data": {
      "text/plain": [
       "array([1, 0])"
      ]
     },
     "execution_count": 8,
     "metadata": {},
     "output_type": "execute_result"
    }
   ],
   "source": [
    "#looking at the count of unique values there are some values we would like to explore further to ensure they contain reasonable values:\n",
    "df_loan_dataset['last_delinq_none'].unique()\n",
    " "
   ]
  },
  {
   "cell_type": "code",
   "execution_count": 9,
   "metadata": {},
   "outputs": [
    {
     "data": {
      "text/html": [
       "<div>\n",
       "<style scoped>\n",
       "    .dataframe tbody tr th:only-of-type {\n",
       "        vertical-align: middle;\n",
       "    }\n",
       "\n",
       "    .dataframe tbody tr th {\n",
       "        vertical-align: top;\n",
       "    }\n",
       "\n",
       "    .dataframe thead th {\n",
       "        text-align: right;\n",
       "    }\n",
       "</style>\n",
       "<table border=\"1\" class=\"dataframe\">\n",
       "  <thead>\n",
       "    <tr style=\"text-align: right;\">\n",
       "      <th></th>\n",
       "      <th>absolute</th>\n",
       "      <th>percent</th>\n",
       "    </tr>\n",
       "  </thead>\n",
       "  <tbody>\n",
       "    <tr>\n",
       "      <th>id</th>\n",
       "      <td>0</td>\n",
       "      <td>0.00</td>\n",
       "    </tr>\n",
       "    <tr>\n",
       "      <th>grade</th>\n",
       "      <td>0</td>\n",
       "      <td>0.00</td>\n",
       "    </tr>\n",
       "    <tr>\n",
       "      <th>annual_inc</th>\n",
       "      <td>0</td>\n",
       "      <td>0.00</td>\n",
       "    </tr>\n",
       "    <tr>\n",
       "      <th>short_emp</th>\n",
       "      <td>0</td>\n",
       "      <td>0.00</td>\n",
       "    </tr>\n",
       "    <tr>\n",
       "      <th>emp_length_num</th>\n",
       "      <td>0</td>\n",
       "      <td>0.00</td>\n",
       "    </tr>\n",
       "    <tr>\n",
       "      <th>home_ownership</th>\n",
       "      <td>1491</td>\n",
       "      <td>7.08</td>\n",
       "    </tr>\n",
       "    <tr>\n",
       "      <th>dti</th>\n",
       "      <td>154</td>\n",
       "      <td>0.73</td>\n",
       "    </tr>\n",
       "    <tr>\n",
       "      <th>purpose</th>\n",
       "      <td>0</td>\n",
       "      <td>0.00</td>\n",
       "    </tr>\n",
       "    <tr>\n",
       "      <th>term</th>\n",
       "      <td>0</td>\n",
       "      <td>0.00</td>\n",
       "    </tr>\n",
       "    <tr>\n",
       "      <th>last_delinq_none</th>\n",
       "      <td>0</td>\n",
       "      <td>0.00</td>\n",
       "    </tr>\n",
       "    <tr>\n",
       "      <th>last_major_derog_none</th>\n",
       "      <td>19426</td>\n",
       "      <td>92.19</td>\n",
       "    </tr>\n",
       "    <tr>\n",
       "      <th>revol_util</th>\n",
       "      <td>0</td>\n",
       "      <td>0.00</td>\n",
       "    </tr>\n",
       "    <tr>\n",
       "      <th>total_rec_late_fee</th>\n",
       "      <td>0</td>\n",
       "      <td>0.00</td>\n",
       "    </tr>\n",
       "    <tr>\n",
       "      <th>od_ratio</th>\n",
       "      <td>0</td>\n",
       "      <td>0.00</td>\n",
       "    </tr>\n",
       "    <tr>\n",
       "      <th>bad_loan</th>\n",
       "      <td>0</td>\n",
       "      <td>0.00</td>\n",
       "    </tr>\n",
       "  </tbody>\n",
       "</table>\n",
       "</div>"
      ],
      "text/plain": [
       "                       absolute  percent\n",
       "id                            0     0.00\n",
       "grade                         0     0.00\n",
       "annual_inc                    0     0.00\n",
       "short_emp                     0     0.00\n",
       "emp_length_num                0     0.00\n",
       "home_ownership             1491     7.08\n",
       "dti                         154     0.73\n",
       "purpose                       0     0.00\n",
       "term                          0     0.00\n",
       "last_delinq_none              0     0.00\n",
       "last_major_derog_none     19426    92.19\n",
       "revol_util                    0     0.00\n",
       "total_rec_late_fee            0     0.00\n",
       "od_ratio                      0     0.00\n",
       "bad_loan                      0     0.00"
      ]
     },
     "execution_count": 9,
     "metadata": {},
     "output_type": "execute_result"
    }
   ],
   "source": [
    "# missing values - for all variables \n",
    "missing_values = df_loan_dataset.isnull().sum().to_frame().rename(columns={0:\"absolute\"})\n",
    "missing_values[\"percent\"] = (missing_values.apply(lambda x: x/x.sum())*100).round(2)\n",
    "missing_values"
   ]
  },
  {
   "cell_type": "code",
   "execution_count": 10,
   "metadata": {},
   "outputs": [
    {
     "name": "stderr",
     "output_type": "stream",
     "text": [
      "/var/folders/k3/46_t4z7174qbg9yzk8mh2kpm0000gn/T/ipykernel_7150/297930248.py:2: DeprecationWarning: `np.object` is a deprecated alias for the builtin `object`. To silence this warning, use `object` by itself. Doing this will not modify any behavior and is safe. \n",
      "Deprecated in NumPy 1.20; for more details and guidance: https://numpy.org/devdocs/release/1.20.0-notes.html#deprecations\n",
      "  df_loan_dataset.describe(include=[np.object])\n"
     ]
    },
    {
     "data": {
      "text/html": [
       "<div>\n",
       "<style scoped>\n",
       "    .dataframe tbody tr th:only-of-type {\n",
       "        vertical-align: middle;\n",
       "    }\n",
       "\n",
       "    .dataframe tbody tr th {\n",
       "        vertical-align: top;\n",
       "    }\n",
       "\n",
       "    .dataframe thead th {\n",
       "        text-align: right;\n",
       "    }\n",
       "</style>\n",
       "<table border=\"1\" class=\"dataframe\">\n",
       "  <thead>\n",
       "    <tr style=\"text-align: right;\">\n",
       "      <th></th>\n",
       "      <th>grade</th>\n",
       "      <th>home_ownership</th>\n",
       "      <th>purpose</th>\n",
       "      <th>term</th>\n",
       "    </tr>\n",
       "  </thead>\n",
       "  <tbody>\n",
       "    <tr>\n",
       "      <th>count</th>\n",
       "      <td>20000</td>\n",
       "      <td>18509</td>\n",
       "      <td>20000</td>\n",
       "      <td>20000</td>\n",
       "    </tr>\n",
       "    <tr>\n",
       "      <th>unique</th>\n",
       "      <td>7</td>\n",
       "      <td>3</td>\n",
       "      <td>12</td>\n",
       "      <td>3</td>\n",
       "    </tr>\n",
       "    <tr>\n",
       "      <th>top</th>\n",
       "      <td>B</td>\n",
       "      <td>MORTGAGE</td>\n",
       "      <td>debt_consolidation</td>\n",
       "      <td>36 months</td>\n",
       "    </tr>\n",
       "    <tr>\n",
       "      <th>freq</th>\n",
       "      <td>6042</td>\n",
       "      <td>9844</td>\n",
       "      <td>12337</td>\n",
       "      <td>14969</td>\n",
       "    </tr>\n",
       "  </tbody>\n",
       "</table>\n",
       "</div>"
      ],
      "text/plain": [
       "        grade home_ownership             purpose        term\n",
       "count   20000          18509               20000       20000\n",
       "unique      7              3                  12           3\n",
       "top         B       MORTGAGE  debt_consolidation   36 months\n",
       "freq     6042           9844               12337       14969"
      ]
     },
     "execution_count": 10,
     "metadata": {},
     "output_type": "execute_result"
    }
   ],
   "source": [
    "# summary of characteristics of non-numeric variables\n",
    "df_loan_dataset.describe(include=[np.object])"
   ]
  },
  {
   "cell_type": "code",
   "execution_count": 11,
   "metadata": {},
   "outputs": [
    {
     "data": {
      "image/png": "[encoded data removed]",
      "text/plain": [
       "<Figure size 720x648 with 12 Axes>"
      ]
     },
     "metadata": {
      "needs_background": "light"
     },
     "output_type": "display_data"
    }
   ],
   "source": [
    "#histogram for numerical values \n",
    "df_loan_dataset.hist(figsize=(10,9), bins=12, ec=\"b\", xlabelsize=8, ylabelsize=8, alpha=0.9, grid=False)\n",
    "plt.tight_layout()\n",
    "plt.show()"
   ]
  },
  {
   "cell_type": "code",
   "execution_count": 12,
   "metadata": {},
   "outputs": [
    {
     "data": {
      "image/png": "[encoded data removed]",
      "text/plain": [
       "<Figure size 432x288 with 1 Axes>"
      ]
     },
     "metadata": {
      "needs_background": "light"
     },
     "output_type": "display_data"
    },
    {
     "data": {
      "image/png": "[encoded data removed]",
      "text/plain": [
       "<Figure size 432x288 with 1 Axes>"
      ]
     },
     "metadata": {
      "needs_background": "light"
     },
     "output_type": "display_data"
    },
    {
     "data": {
      "image/png": "[encoded data removed]",
      "text/plain": [
       "<Figure size 432x288 with 1 Axes>"
      ]
     },
     "metadata": {
      "needs_background": "light"
     },
     "output_type": "display_data"
    },
    {
     "data": {
      "image/png": "[encoded data removed]",
      "text/plain": [
       "<Figure size 432x288 with 1 Axes>"
      ]
     },
     "metadata": {
      "needs_background": "light"
     },
     "output_type": "display_data"
    }
   ],
   "source": [
    "#bar charrts for categorical values\n",
    "for col in df_loan_dataset.select_dtypes(include=[\"object\"]).columns:\n",
    "    df_loan_dataset[col].value_counts().plot(kind=\"bar\", color=sns.color_palette(\"rocket\"))\n",
    "    \n",
    "    plt.xlabel(\"Class\", fontsize=10)\n",
    "    plt.xticks(rotation=90, horizontalalignment=\"center\")\n",
    "    plt.ylabel(\"Count\", fontsize=10)\n",
    "    plt.title(col, fontsize=10, loc=\"right\")\n",
    "    plt.show()"
   ]
  },
  {
   "cell_type": "code",
   "execution_count": null,
   "metadata": {},
   "outputs": [],
   "source": [
    "sns.pairplot(df_loan_dataset, hue=\"id\", height=3)"
   ]
  },
  {
   "cell_type": "code",
   "execution_count": 13,
   "metadata": {},
   "outputs": [
    {
     "data": {
      "text/html": [
       "<div>\n",
       "<style scoped>\n",
       "    .dataframe tbody tr th:only-of-type {\n",
       "        vertical-align: middle;\n",
       "    }\n",
       "\n",
       "    .dataframe tbody tr th {\n",
       "        vertical-align: top;\n",
       "    }\n",
       "\n",
       "    .dataframe thead th {\n",
       "        text-align: right;\n",
       "    }\n",
       "</style>\n",
       "<table border=\"1\" class=\"dataframe\">\n",
       "  <thead>\n",
       "    <tr style=\"text-align: right;\">\n",
       "      <th></th>\n",
       "      <th>id</th>\n",
       "      <th>annual_inc</th>\n",
       "      <th>short_emp</th>\n",
       "      <th>emp_length_num</th>\n",
       "      <th>dti</th>\n",
       "      <th>last_delinq_none</th>\n",
       "      <th>last_major_derog_none</th>\n",
       "      <th>revol_util</th>\n",
       "      <th>total_rec_late_fee</th>\n",
       "      <th>od_ratio</th>\n",
       "      <th>bad_loan</th>\n",
       "    </tr>\n",
       "  </thead>\n",
       "  <tbody>\n",
       "    <tr>\n",
       "      <th>id</th>\n",
       "      <td>1.00</td>\n",
       "      <td>0.02</td>\n",
       "      <td>0.02</td>\n",
       "      <td>0.00</td>\n",
       "      <td>0.01</td>\n",
       "      <td>-0.03</td>\n",
       "      <td>-0.05</td>\n",
       "      <td>-0.01</td>\n",
       "      <td>-0.01</td>\n",
       "      <td>0.00</td>\n",
       "      <td>-0.04</td>\n",
       "    </tr>\n",
       "    <tr>\n",
       "      <th>annual_inc</th>\n",
       "      <td>0.02</td>\n",
       "      <td>1.00</td>\n",
       "      <td>-0.10</td>\n",
       "      <td>0.12</td>\n",
       "      <td>-0.23</td>\n",
       "      <td>-0.08</td>\n",
       "      <td>0.02</td>\n",
       "      <td>0.02</td>\n",
       "      <td>0.01</td>\n",
       "      <td>-0.00</td>\n",
       "      <td>-0.09</td>\n",
       "    </tr>\n",
       "    <tr>\n",
       "      <th>short_emp</th>\n",
       "      <td>0.02</td>\n",
       "      <td>-0.10</td>\n",
       "      <td>1.00</td>\n",
       "      <td>-0.58</td>\n",
       "      <td>0.00</td>\n",
       "      <td>0.03</td>\n",
       "      <td>0.07</td>\n",
       "      <td>-0.01</td>\n",
       "      <td>0.01</td>\n",
       "      <td>-0.01</td>\n",
       "      <td>0.04</td>\n",
       "    </tr>\n",
       "    <tr>\n",
       "      <th>emp_length_num</th>\n",
       "      <td>0.00</td>\n",
       "      <td>0.12</td>\n",
       "      <td>-0.58</td>\n",
       "      <td>1.00</td>\n",
       "      <td>0.01</td>\n",
       "      <td>-0.05</td>\n",
       "      <td>-0.16</td>\n",
       "      <td>0.03</td>\n",
       "      <td>-0.01</td>\n",
       "      <td>0.00</td>\n",
       "      <td>-0.04</td>\n",
       "    </tr>\n",
       "    <tr>\n",
       "      <th>dti</th>\n",
       "      <td>0.01</td>\n",
       "      <td>-0.23</td>\n",
       "      <td>0.00</td>\n",
       "      <td>0.01</td>\n",
       "      <td>1.00</td>\n",
       "      <td>0.03</td>\n",
       "      <td>0.00</td>\n",
       "      <td>0.10</td>\n",
       "      <td>0.01</td>\n",
       "      <td>0.01</td>\n",
       "      <td>0.14</td>\n",
       "    </tr>\n",
       "    <tr>\n",
       "      <th>last_delinq_none</th>\n",
       "      <td>-0.03</td>\n",
       "      <td>-0.08</td>\n",
       "      <td>0.03</td>\n",
       "      <td>-0.05</td>\n",
       "      <td>0.03</td>\n",
       "      <td>1.00</td>\n",
       "      <td>0.60</td>\n",
       "      <td>0.01</td>\n",
       "      <td>-0.01</td>\n",
       "      <td>-0.00</td>\n",
       "      <td>0.02</td>\n",
       "    </tr>\n",
       "    <tr>\n",
       "      <th>last_major_derog_none</th>\n",
       "      <td>-0.05</td>\n",
       "      <td>0.02</td>\n",
       "      <td>0.07</td>\n",
       "      <td>-0.16</td>\n",
       "      <td>0.00</td>\n",
       "      <td>0.60</td>\n",
       "      <td>1.00</td>\n",
       "      <td>-0.03</td>\n",
       "      <td>-0.09</td>\n",
       "      <td>0.05</td>\n",
       "      <td>-0.01</td>\n",
       "    </tr>\n",
       "    <tr>\n",
       "      <th>revol_util</th>\n",
       "      <td>-0.01</td>\n",
       "      <td>0.02</td>\n",
       "      <td>-0.01</td>\n",
       "      <td>0.03</td>\n",
       "      <td>0.10</td>\n",
       "      <td>0.01</td>\n",
       "      <td>-0.03</td>\n",
       "      <td>1.00</td>\n",
       "      <td>0.01</td>\n",
       "      <td>-0.01</td>\n",
       "      <td>0.05</td>\n",
       "    </tr>\n",
       "    <tr>\n",
       "      <th>total_rec_late_fee</th>\n",
       "      <td>-0.01</td>\n",
       "      <td>0.01</td>\n",
       "      <td>0.01</td>\n",
       "      <td>-0.01</td>\n",
       "      <td>0.01</td>\n",
       "      <td>-0.01</td>\n",
       "      <td>-0.09</td>\n",
       "      <td>0.01</td>\n",
       "      <td>1.00</td>\n",
       "      <td>-0.00</td>\n",
       "      <td>0.13</td>\n",
       "    </tr>\n",
       "    <tr>\n",
       "      <th>od_ratio</th>\n",
       "      <td>0.00</td>\n",
       "      <td>-0.00</td>\n",
       "      <td>-0.01</td>\n",
       "      <td>0.00</td>\n",
       "      <td>0.01</td>\n",
       "      <td>-0.00</td>\n",
       "      <td>0.05</td>\n",
       "      <td>-0.01</td>\n",
       "      <td>-0.00</td>\n",
       "      <td>1.00</td>\n",
       "      <td>0.00</td>\n",
       "    </tr>\n",
       "    <tr>\n",
       "      <th>bad_loan</th>\n",
       "      <td>-0.04</td>\n",
       "      <td>-0.09</td>\n",
       "      <td>0.04</td>\n",
       "      <td>-0.04</td>\n",
       "      <td>0.14</td>\n",
       "      <td>0.02</td>\n",
       "      <td>-0.01</td>\n",
       "      <td>0.05</td>\n",
       "      <td>0.13</td>\n",
       "      <td>0.00</td>\n",
       "      <td>1.00</td>\n",
       "    </tr>\n",
       "  </tbody>\n",
       "</table>\n",
       "</div>"
      ],
      "text/plain": [
       "                         id  annual_inc  short_emp  emp_length_num   dti  \\\n",
       "id                     1.00        0.02       0.02            0.00  0.01   \n",
       "annual_inc             0.02        1.00      -0.10            0.12 -0.23   \n",
       "short_emp              0.02       -0.10       1.00           -0.58  0.00   \n",
       "emp_length_num         0.00        0.12      -0.58            1.00  0.01   \n",
       "dti                    0.01       -0.23       0.00            0.01  1.00   \n",
       "last_delinq_none      -0.03       -0.08       0.03           -0.05  0.03   \n",
       "last_major_derog_none -0.05        0.02       0.07           -0.16  0.00   \n",
       "revol_util            -0.01        0.02      -0.01            0.03  0.10   \n",
       "total_rec_late_fee    -0.01        0.01       0.01           -0.01  0.01   \n",
       "od_ratio               0.00       -0.00      -0.01            0.00  0.01   \n",
       "bad_loan              -0.04       -0.09       0.04           -0.04  0.14   \n",
       "\n",
       "                       last_delinq_none  last_major_derog_none  revol_util  \\\n",
       "id                                -0.03                  -0.05       -0.01   \n",
       "annual_inc                        -0.08                   0.02        0.02   \n",
       "short_emp                          0.03                   0.07       -0.01   \n",
       "emp_length_num                    -0.05                  -0.16        0.03   \n",
       "dti                                0.03                   0.00        0.10   \n",
       "last_delinq_none                   1.00                   0.60        0.01   \n",
       "last_major_derog_none              0.60                   1.00       -0.03   \n",
       "revol_util                         0.01                  -0.03        1.00   \n",
       "total_rec_late_fee                -0.01                  -0.09        0.01   \n",
       "od_ratio                          -0.00                   0.05       -0.01   \n",
       "bad_loan                           0.02                  -0.01        0.05   \n",
       "\n",
       "                       total_rec_late_fee  od_ratio  bad_loan  \n",
       "id                                  -0.01      0.00     -0.04  \n",
       "annual_inc                           0.01     -0.00     -0.09  \n",
       "short_emp                            0.01     -0.01      0.04  \n",
       "emp_length_num                      -0.01      0.00     -0.04  \n",
       "dti                                  0.01      0.01      0.14  \n",
       "last_delinq_none                    -0.01     -0.00      0.02  \n",
       "last_major_derog_none               -0.09      0.05     -0.01  \n",
       "revol_util                           0.01     -0.01      0.05  \n",
       "total_rec_late_fee                   1.00     -0.00      0.13  \n",
       "od_ratio                            -0.00      1.00      0.00  \n",
       "bad_loan                             0.13      0.00      1.00  "
      ]
     },
     "execution_count": 13,
     "metadata": {},
     "output_type": "execute_result"
    }
   ],
   "source": [
    "#correlation of variables \n",
    "df_loan_dataset.corr().round(2)"
   ]
  },
  {
   "cell_type": "code",
   "execution_count": 14,
   "metadata": {},
   "outputs": [
    {
     "data": {
      "application/vnd.plotly.v1+json": {
       "config": {
        "plotlyServerURL": "https://plot.ly"
       },
       "data": [
        {
         "coloraxis": "coloraxis",
         "hovertemplate": "x: %{x}<br>y: %{y}<br>color: %{z}<extra></extra>",
         "name": "0",
         "type": "heatmap",
         "x": [
          "id",
          "annual_inc",
          "short_emp",
          "emp_length_num",
          "dti",
          "last_delinq_none",
          "last_major_derog_none",
          "revol_util",
          "total_rec_late_fee",
          "od_ratio",
          "bad_loan"
         ],
         "xaxis": "x",
         "y": [
          "id",
          "annual_inc",
          "short_emp",
          "emp_length_num",
          "dti",
          "last_delinq_none",
          "last_major_derog_none",
          "revol_util",
          "total_rec_late_fee",
          "od_ratio",
          "bad_loan"
         ],
         "yaxis": "y",
         "z": [
          [
           1,
           0.017971196797972686,
           0.015412754779554184,
           0.0038633489416367004,
           0.00640697686693259,
           -0.034090564056105256,
           -0.05143881993967151,
           -0.006105537023977307,
           -0.014203398618123687,
           0.0004645410444741998,
           -0.037307110317389446
          ],
          [
           0.017971196797972686,
           1,
           -0.09931651188970088,
           0.11802362560364178,
           -0.23021873671132012,
           -0.08037763074998808,
           0.02328096383550415,
           0.016950675333923092,
           0.014712823670216557,
           -0.004952754256859106,
           -0.09240181361297935
          ],
          [
           0.015412754779554184,
           -0.09931651188970088,
           1,
           -0.5825795873471259,
           0.002013159763377469,
           0.030879964728774162,
           0.07229006840604423,
           -0.011014290284000297,
           0.010424128978374803,
           -0.005308628630519564,
           0.037185825290073984
          ],
          [
           0.0038633489416367004,
           0.11802362560364178,
           -0.5825795873471259,
           1,
           0.009369105974050254,
           -0.053371482013369005,
           -0.1581774528720267,
           0.027389846532803793,
           -0.012382413466960071,
           0.004445593746942448,
           -0.041420076748512946
          ],
          [
           0.00640697686693259,
           -0.23021873671132012,
           0.002013159763377469,
           0.009369105974050254,
           1,
           0.030379300263474563,
           0.004079343532643177,
           0.09867254687373964,
           0.011071971027607522,
           0.005570666766636324,
           0.14188387020107338
          ],
          [
           -0.034090564056105256,
           -0.08037763074998808,
           0.030879964728774162,
           -0.053371482013369005,
           0.030379300263474563,
           1,
           0.6032673979655278,
           0.013372665150252056,
           -0.010999763234727133,
           -0.0019961854081392404,
           0.021493552676843025
          ],
          [
           -0.05143881993967151,
           0.02328096383550415,
           0.07229006840604423,
           -0.1581774528720267,
           0.004079343532643177,
           0.6032673979655278,
           1,
           -0.02759717542455346,
           -0.08639517102831062,
           0.05021145244071741,
           -0.013769674384106059
          ],
          [
           -0.006105537023977307,
           0.016950675333923092,
           -0.011014290284000297,
           0.027389846532803793,
           0.09867254687373964,
           0.013372665150252056,
           -0.02759717542455346,
           1,
           0.008435235332348573,
           -0.008227684212034321,
           0.05368221798646743
          ],
          [
           -0.014203398618123687,
           0.014712823670216557,
           0.010424128978374803,
           -0.012382413466960071,
           0.011071971027607522,
           -0.010999763234727133,
           -0.08639517102831062,
           0.008435235332348573,
           1,
           -0.002353966137927797,
           0.13023276620115856
          ],
          [
           0.0004645410444741998,
           -0.004952754256859106,
           -0.005308628630519564,
           0.004445593746942448,
           0.005570666766636324,
           -0.0019961854081392404,
           0.05021145244071741,
           -0.008227684212034321,
           -0.002353966137927797,
           1,
           0.0004034832758310741
          ],
          [
           -0.037307110317389446,
           -0.09240181361297935,
           0.037185825290073984,
           -0.041420076748512946,
           0.14188387020107338,
           0.021493552676843025,
           -0.013769674384106059,
           0.05368221798646743,
           0.13023276620115856,
           0.0004034832758310741,
           1
          ]
         ]
        }
       ],
       "layout": {
        "coloraxis": {
         "colorscale": [
          [
           0,
           "#0d0887"
          ],
          [
           0.1111111111111111,
           "#46039f"
          ],
          [
           0.2222222222222222,
           "#7201a8"
          ],
          [
           0.3333333333333333,
           "#9c179e"
          ],
          [
           0.4444444444444444,
           "#bd3786"
          ],
          [
           0.5555555555555556,
           "#d8576b"
          ],
          [
           0.6666666666666666,
           "#ed7953"
          ],
          [
           0.7777777777777778,
           "#fb9f3a"
          ],
          [
           0.8888888888888888,
           "#fdca26"
          ],
          [
           1,
           "#f0f921"
          ]
         ]
        },
        "margin": {
         "t": 60
        },
        "template": {
         "data": {
          "bar": [
           {
            "error_x": {
             "color": "#2a3f5f"
            },
            "error_y": {
             "color": "#2a3f5f"
            },
            "marker": {
             "line": {
              "color": "#E5ECF6",
              "width": 0.5
             },
             "pattern": {
              "fillmode": "overlay",
              "size": 10,
              "solidity": 0.2
             }
            },
            "type": "bar"
           }
          ],
          "barpolar": [
           {
            "marker": {
             "line": {
              "color": "#E5ECF6",
              "width": 0.5
             },
             "pattern": {
              "fillmode": "overlay",
              "size": 10,
              "solidity": 0.2
             }
            },
            "type": "barpolar"
           }
          ],
          "carpet": [
           {
            "aaxis": {
             "endlinecolor": "#2a3f5f",
             "gridcolor": "white",
             "linecolor": "white",
             "minorgridcolor": "white",
             "startlinecolor": "#2a3f5f"
            },
            "baxis": {
             "endlinecolor": "#2a3f5f",
             "gridcolor": "white",
             "linecolor": "white",
             "minorgridcolor": "white",
             "startlinecolor": "#2a3f5f"
            },
            "type": "carpet"
           }
          ],
          "choropleth": [
           {
            "colorbar": {
             "outlinewidth": 0,
             "ticks": ""
            },
            "type": "choropleth"
           }
          ],
          "contour": [
           {
            "colorbar": {
             "outlinewidth": 0,
             "ticks": ""
            },
            "colorscale": [
             [
              0,
              "#0d0887"
             ],
             [
              0.1111111111111111,
              "#46039f"
             ],
             [
              0.2222222222222222,
              "#7201a8"
             ],
             [
              0.3333333333333333,
              "#9c179e"
             ],
             [
              0.4444444444444444,
              "#bd3786"
             ],
             [
              0.5555555555555556,
              "#d8576b"
             ],
             [
              0.6666666666666666,
              "#ed7953"
             ],
             [
              0.7777777777777778,
              "#fb9f3a"
             ],
             [
              0.8888888888888888,
              "#fdca26"
             ],
             [
              1,
              "#f0f921"
             ]
            ],
            "type": "contour"
           }
          ],
          "contourcarpet": [
           {
            "colorbar": {
             "outlinewidth": 0,
             "ticks": ""
            },
            "type": "contourcarpet"
           }
          ],
          "heatmap": [
           {
            "colorbar": {
             "outlinewidth": 0,
             "ticks": ""
            },
            "colorscale": [
             [
              0,
              "#0d0887"
             ],
             [
              0.1111111111111111,
              "#46039f"
             ],
             [
              0.2222222222222222,
              "#7201a8"
             ],
             [
              0.3333333333333333,
              "#9c179e"
             ],
             [
              0.4444444444444444,
              "#bd3786"
             ],
             [
              0.5555555555555556,
              "#d8576b"
             ],
             [
              0.6666666666666666,
              "#ed7953"
             ],
             [
              0.7777777777777778,
              "#fb9f3a"
             ],
             [
              0.8888888888888888,
              "#fdca26"
             ],
             [
              1,
              "#f0f921"
             ]
            ],
            "type": "heatmap"
           }
          ],
          "heatmapgl": [
           {
            "colorbar": {
             "outlinewidth": 0,
             "ticks": ""
            },
            "colorscale": [
             [
              0,
              "#0d0887"
             ],
             [
              0.1111111111111111,
              "#46039f"
             ],
             [
              0.2222222222222222,
              "#7201a8"
             ],
             [
              0.3333333333333333,
              "#9c179e"
             ],
             [
              0.4444444444444444,
              "#bd3786"
             ],
             [
              0.5555555555555556,
              "#d8576b"
             ],
             [
              0.6666666666666666,
              "#ed7953"
             ],
             [
              0.7777777777777778,
              "#fb9f3a"
             ],
             [
              0.8888888888888888,
              "#fdca26"
             ],
             [
              1,
              "#f0f921"
             ]
            ],
            "type": "heatmapgl"
           }
          ],
          "histogram": [
           {
            "marker": {
             "pattern": {
              "fillmode": "overlay",
              "size": 10,
              "solidity": 0.2
             }
            },
            "type": "histogram"
           }
          ],
          "histogram2d": [
           {
            "colorbar": {
             "outlinewidth": 0,
             "ticks": ""
            },
            "colorscale": [
             [
              0,
              "#0d0887"
             ],
             [
              0.1111111111111111,
              "#46039f"
             ],
             [
              0.2222222222222222,
              "#7201a8"
             ],
             [
              0.3333333333333333,
              "#9c179e"
             ],
             [
              0.4444444444444444,
              "#bd3786"
             ],
             [
              0.5555555555555556,
              "#d8576b"
             ],
             [
              0.6666666666666666,
              "#ed7953"
             ],
             [
              0.7777777777777778,
              "#fb9f3a"
             ],
             [
              0.8888888888888888,
              "#fdca26"
             ],
             [
              1,
              "#f0f921"
             ]
            ],
            "type": "histogram2d"
           }
          ],
          "histogram2dcontour": [
           {
            "colorbar": {
             "outlinewidth": 0,
             "ticks": ""
            },
            "colorscale": [
             [
              0,
              "#0d0887"
             ],
             [
              0.1111111111111111,
              "#46039f"
             ],
             [
              0.2222222222222222,
              "#7201a8"
             ],
             [
              0.3333333333333333,
              "#9c179e"
             ],
             [
              0.4444444444444444,
              "#bd3786"
             ],
             [
              0.5555555555555556,
              "#d8576b"
             ],
             [
              0.6666666666666666,
              "#ed7953"
             ],
             [
              0.7777777777777778,
              "#fb9f3a"
             ],
             [
              0.8888888888888888,
              "#fdca26"
             ],
             [
              1,
              "#f0f921"
             ]
            ],
            "type": "histogram2dcontour"
           }
          ],
          "mesh3d": [
           {
            "colorbar": {
             "outlinewidth": 0,
             "ticks": ""
            },
            "type": "mesh3d"
           }
          ],
          "parcoords": [
           {
            "line": {
             "colorbar": {
              "outlinewidth": 0,
              "ticks": ""
             }
            },
            "type": "parcoords"
           }
          ],
          "pie": [
           {
            "automargin": true,
            "type": "pie"
           }
          ],
          "scatter": [
           {
            "marker": {
             "colorbar": {
              "outlinewidth": 0,
              "ticks": ""
             }
            },
            "type": "scatter"
           }
          ],
          "scatter3d": [
           {
            "line": {
             "colorbar": {
              "outlinewidth": 0,
              "ticks": ""
             }
            },
            "marker": {
             "colorbar": {
              "outlinewidth": 0,
              "ticks": ""
             }
            },
            "type": "scatter3d"
           }
          ],
          "scattercarpet": [
           {
            "marker": {
             "colorbar": {
              "outlinewidth": 0,
              "ticks": ""
             }
            },
            "type": "scattercarpet"
           }
          ],
          "scattergeo": [
           {
            "marker": {
             "colorbar": {
              "outlinewidth": 0,
              "ticks": ""
             }
            },
            "type": "scattergeo"
           }
          ],
          "scattergl": [
           {
            "marker": {
             "colorbar": {
              "outlinewidth": 0,
              "ticks": ""
             }
            },
            "type": "scattergl"
           }
          ],
          "scattermapbox": [
           {
            "marker": {
             "colorbar": {
              "outlinewidth": 0,
              "ticks": ""
             }
            },
            "type": "scattermapbox"
           }
          ],
          "scatterpolar": [
           {
            "marker": {
             "colorbar": {
              "outlinewidth": 0,
              "ticks": ""
             }
            },
            "type": "scatterpolar"
           }
          ],
          "scatterpolargl": [
           {
            "marker": {
             "colorbar": {
              "outlinewidth": 0,
              "ticks": ""
             }
            },
            "type": "scatterpolargl"
           }
          ],
          "scatterternary": [
           {
            "marker": {
             "colorbar": {
              "outlinewidth": 0,
              "ticks": ""
             }
            },
            "type": "scatterternary"
           }
          ],
          "surface": [
           {
            "colorbar": {
             "outlinewidth": 0,
             "ticks": ""
            },
            "colorscale": [
             [
              0,
              "#0d0887"
             ],
             [
              0.1111111111111111,
              "#46039f"
             ],
             [
              0.2222222222222222,
              "#7201a8"
             ],
             [
              0.3333333333333333,
              "#9c179e"
             ],
             [
              0.4444444444444444,
              "#bd3786"
             ],
             [
              0.5555555555555556,
              "#d8576b"
             ],
             [
              0.6666666666666666,
              "#ed7953"
             ],
             [
              0.7777777777777778,
              "#fb9f3a"
             ],
             [
              0.8888888888888888,
              "#fdca26"
             ],
             [
              1,
              "#f0f921"
             ]
            ],
            "type": "surface"
           }
          ],
          "table": [
           {
            "cells": {
             "fill": {
              "color": "#EBF0F8"
             },
             "line": {
              "color": "white"
             }
            },
            "header": {
             "fill": {
              "color": "#C8D4E3"
             },
             "line": {
              "color": "white"
             }
            },
            "type": "table"
           }
          ]
         },
         "layout": {
          "annotationdefaults": {
           "arrowcolor": "#2a3f5f",
           "arrowhead": 0,
           "arrowwidth": 1
          },
          "autotypenumbers": "strict",
          "coloraxis": {
           "colorbar": {
            "outlinewidth": 0,
            "ticks": ""
           }
          },
          "colorscale": {
           "diverging": [
            [
             0,
             "#8e0152"
            ],
            [
             0.1,
             "#c51b7d"
            ],
            [
             0.2,
             "#de77ae"
            ],
            [
             0.3,
             "#f1b6da"
            ],
            [
             0.4,
             "#fde0ef"
            ],
            [
             0.5,
             "#f7f7f7"
            ],
            [
             0.6,
             "#e6f5d0"
            ],
            [
             0.7,
             "#b8e186"
            ],
            [
             0.8,
             "#7fbc41"
            ],
            [
             0.9,
             "#4d9221"
            ],
            [
             1,
             "#276419"
            ]
           ],
           "sequential": [
            [
             0,
             "#0d0887"
            ],
            [
             0.1111111111111111,
             "#46039f"
            ],
            [
             0.2222222222222222,
             "#7201a8"
            ],
            [
             0.3333333333333333,
             "#9c179e"
            ],
            [
             0.4444444444444444,
             "#bd3786"
            ],
            [
             0.5555555555555556,
             "#d8576b"
            ],
            [
             0.6666666666666666,
             "#ed7953"
            ],
            [
             0.7777777777777778,
             "#fb9f3a"
            ],
            [
             0.8888888888888888,
             "#fdca26"
            ],
            [
             1,
             "#f0f921"
            ]
           ],
           "sequentialminus": [
            [
             0,
             "#0d0887"
            ],
            [
             0.1111111111111111,
             "#46039f"
            ],
            [
             0.2222222222222222,
             "#7201a8"
            ],
            [
             0.3333333333333333,
             "#9c179e"
            ],
            [
             0.4444444444444444,
             "#bd3786"
            ],
            [
             0.5555555555555556,
             "#d8576b"
            ],
            [
             0.6666666666666666,
             "#ed7953"
            ],
            [
             0.7777777777777778,
             "#fb9f3a"
            ],
            [
             0.8888888888888888,
             "#fdca26"
            ],
            [
             1,
             "#f0f921"
            ]
           ]
          },
          "colorway": [
           "#636efa",
           "#EF553B",
           "#00cc96",
           "#ab63fa",
           "#FFA15A",
           "#19d3f3",
           "#FF6692",
           "#B6E880",
           "#FF97FF",
           "#FECB52"
          ],
          "font": {
           "color": "#2a3f5f"
          },
          "geo": {
           "bgcolor": "white",
           "lakecolor": "white",
           "landcolor": "#E5ECF6",
           "showlakes": true,
           "showland": true,
           "subunitcolor": "white"
          },
          "hoverlabel": {
           "align": "left"
          },
          "hovermode": "closest",
          "mapbox": {
           "style": "light"
          },
          "paper_bgcolor": "white",
          "plot_bgcolor": "#E5ECF6",
          "polar": {
           "angularaxis": {
            "gridcolor": "white",
            "linecolor": "white",
            "ticks": ""
           },
           "bgcolor": "#E5ECF6",
           "radialaxis": {
            "gridcolor": "white",
            "linecolor": "white",
            "ticks": ""
           }
          },
          "scene": {
           "xaxis": {
            "backgroundcolor": "#E5ECF6",
            "gridcolor": "white",
            "gridwidth": 2,
            "linecolor": "white",
            "showbackground": true,
            "ticks": "",
            "zerolinecolor": "white"
           },
           "yaxis": {
            "backgroundcolor": "#E5ECF6",
            "gridcolor": "white",
            "gridwidth": 2,
            "linecolor": "white",
            "showbackground": true,
            "ticks": "",
            "zerolinecolor": "white"
           },
           "zaxis": {
            "backgroundcolor": "#E5ECF6",
            "gridcolor": "white",
            "gridwidth": 2,
            "linecolor": "white",
            "showbackground": true,
            "ticks": "",
            "zerolinecolor": "white"
           }
          },
          "shapedefaults": {
           "line": {
            "color": "#2a3f5f"
           }
          },
          "ternary": {
           "aaxis": {
            "gridcolor": "white",
            "linecolor": "white",
            "ticks": ""
           },
           "baxis": {
            "gridcolor": "white",
            "linecolor": "white",
            "ticks": ""
           },
           "bgcolor": "#E5ECF6",
           "caxis": {
            "gridcolor": "white",
            "linecolor": "white",
            "ticks": ""
           }
          },
          "title": {
           "x": 0.05
          },
          "xaxis": {
           "automargin": true,
           "gridcolor": "white",
           "linecolor": "white",
           "ticks": "",
           "title": {
            "standoff": 15
           },
           "zerolinecolor": "white",
           "zerolinewidth": 2
          },
          "yaxis": {
           "automargin": true,
           "gridcolor": "white",
           "linecolor": "white",
           "ticks": "",
           "title": {
            "standoff": 15
           },
           "zerolinecolor": "white",
           "zerolinewidth": 2
          }
         }
        },
        "xaxis": {
         "anchor": "y",
         "constrain": "domain",
         "domain": [
          0,
          1
         ],
         "scaleanchor": "y"
        },
        "yaxis": {
         "anchor": "x",
         "autorange": "reversed",
         "constrain": "domain",
         "domain": [
          0,
          1
         ]
        }
       }
      }
     },
     "metadata": {},
     "output_type": "display_data"
    }
   ],
   "source": [
    "#heatmap showing the correlation of all variables \n",
    "heatmap = px.imshow(df_loan_dataset.corr())\n",
    "heatmap.show()\n"
   ]
  },
  {
   "cell_type": "code",
   "execution_count": 15,
   "metadata": {},
   "outputs": [
    {
     "name": "stderr",
     "output_type": "stream",
     "text": [
      "/Users/liamoleary/opt/anaconda3/lib/python3.9/site-packages/seaborn/_core.py:1319: UserWarning:\n",
      "\n",
      "Horizontal orientation ignored with only `y` specified.\n",
      "\n",
      "/Users/liamoleary/opt/anaconda3/lib/python3.9/site-packages/seaborn/_core.py:1319: UserWarning:\n",
      "\n",
      "Horizontal orientation ignored with only `y` specified.\n",
      "\n",
      "/Users/liamoleary/opt/anaconda3/lib/python3.9/site-packages/seaborn/_core.py:1319: UserWarning:\n",
      "\n",
      "Horizontal orientation ignored with only `y` specified.\n",
      "\n",
      "/Users/liamoleary/opt/anaconda3/lib/python3.9/site-packages/seaborn/_core.py:1319: UserWarning:\n",
      "\n",
      "Horizontal orientation ignored with only `y` specified.\n",
      "\n",
      "/Users/liamoleary/opt/anaconda3/lib/python3.9/site-packages/seaborn/_core.py:1319: UserWarning:\n",
      "\n",
      "Horizontal orientation ignored with only `y` specified.\n",
      "\n",
      "/Users/liamoleary/opt/anaconda3/lib/python3.9/site-packages/seaborn/_core.py:1319: UserWarning:\n",
      "\n",
      "Horizontal orientation ignored with only `y` specified.\n",
      "\n",
      "/Users/liamoleary/opt/anaconda3/lib/python3.9/site-packages/seaborn/_core.py:1319: UserWarning:\n",
      "\n",
      "Horizontal orientation ignored with only `y` specified.\n",
      "\n",
      "/Users/liamoleary/opt/anaconda3/lib/python3.9/site-packages/seaborn/_core.py:1319: UserWarning:\n",
      "\n",
      "Horizontal orientation ignored with only `y` specified.\n",
      "\n",
      "/Users/liamoleary/opt/anaconda3/lib/python3.9/site-packages/seaborn/_core.py:1319: UserWarning:\n",
      "\n",
      "Horizontal orientation ignored with only `y` specified.\n",
      "\n",
      "/Users/liamoleary/opt/anaconda3/lib/python3.9/site-packages/seaborn/_core.py:1319: UserWarning:\n",
      "\n",
      "Horizontal orientation ignored with only `y` specified.\n",
      "\n",
      "/Users/liamoleary/opt/anaconda3/lib/python3.9/site-packages/seaborn/_core.py:1319: UserWarning:\n",
      "\n",
      "Horizontal orientation ignored with only `y` specified.\n",
      "\n"
     ]
    },
    {
     "data": {
      "image/png": "[encoded data removed]",
      "text/plain": [
       "<Figure size 1152x576 with 12 Axes>"
      ]
     },
     "metadata": {
      "needs_background": "light"
     },
     "output_type": "display_data"
    }
   ],
   "source": [
    "#detect outliers \n",
    "data_numercial = df_loan_dataset.select_dtypes(exclude=[\"object\",\"category\"]).copy()\n",
    "\n",
    "fig, axs = plt.subplots(ncols=3, nrows=4, figsize=(16, 8))\n",
    "index = 0\n",
    "axs = axs.flatten()\n",
    "for k,v in data_numercial.items():\n",
    "    sns.boxplot(y=k, data=data_numercial, ax=axs[index], orient=\"h\")\n",
    "    index += 1\n",
    "    plt.tight_layout(pad=0.4, w_pad=0.5, h_pad=5.0)"
   ]
  },
  {
   "cell_type": "code",
   "execution_count": 16,
   "metadata": {},
   "outputs": [
    {
     "name": "stderr",
     "output_type": "stream",
     "text": [
      "/Users/liamoleary/opt/anaconda3/lib/python3.9/site-packages/seaborn/_decorators.py:36: FutureWarning:\n",
      "\n",
      "Pass the following variable as a keyword arg: x. From version 0.12, the only valid positional argument will be `data`, and passing other arguments without an explicit keyword will result in an error or misinterpretation.\n",
      "\n"
     ]
    },
    {
     "data": {
      "text/plain": [
       "<AxesSubplot:xlabel='annual_inc'>"
      ]
     },
     "execution_count": 16,
     "metadata": {},
     "output_type": "execute_result"
    },
    {
     "data": {
      "image/png": "[encoded data removed]",
      "text/plain": [
       "<Figure size 432x288 with 1 Axes>"
      ]
     },
     "metadata": {},
     "output_type": "display_data"
    }
   ],
   "source": [
    "#want to drill down further on annual_inc to detect outliers\n",
    "sns.set_theme(style=\"whitegrid\")\n",
    "sns.boxplot(df_loan_dataset['annual_inc'])"
   ]
  },
  {
   "cell_type": "code",
   "execution_count": 17,
   "metadata": {},
   "outputs": [
    {
     "name": "stderr",
     "output_type": "stream",
     "text": [
      "/Users/liamoleary/opt/anaconda3/lib/python3.9/site-packages/seaborn/distributions.py:2619: FutureWarning:\n",
      "\n",
      "`distplot` is a deprecated function and will be removed in a future version. Please adapt your code to use either `displot` (a figure-level function with similar flexibility) or `histplot` (an axes-level function for histograms).\n",
      "\n"
     ]
    },
    {
     "data": {
      "text/plain": [
       "<AxesSubplot:xlabel='annual_inc', ylabel='Density'>"
      ]
     },
     "execution_count": 17,
     "metadata": {},
     "output_type": "execute_result"
    },
    {
     "data": {
      "image/png": "[encoded data removed]",
      "text/plain": [
       "<Figure size 432x288 with 1 Axes>"
      ]
     },
     "metadata": {},
     "output_type": "display_data"
    }
   ],
   "source": [
    "#probability density function - annual inc\n",
    "sns.distplot(df_loan_dataset['annual_inc'],bins=5)"
   ]
  },
  {
   "cell_type": "code",
   "execution_count": 18,
   "metadata": {},
   "outputs": [],
   "source": [
    "#removing value greater than 200000 for the annual_inc column \n",
    "df_loan_dataset1 = df_loan_dataset[df_loan_dataset.annual_inc < 200000]\n",
    "\n"
   ]
  },
  {
   "cell_type": "code",
   "execution_count": 19,
   "metadata": {},
   "outputs": [
    {
     "data": {
      "text/plain": [
       "199597"
      ]
     },
     "execution_count": 19,
     "metadata": {},
     "output_type": "execute_result"
    }
   ],
   "source": [
    "#looking at the maximum value in the annual_inc column to ensure the data has been removed \n",
    "df_loan_dataset1['annual_inc'].max()"
   ]
  },
  {
   "cell_type": "code",
   "execution_count": 20,
   "metadata": {},
   "outputs": [
    {
     "data": {
      "text/plain": [
       "19650"
      ]
     },
     "execution_count": 20,
     "metadata": {},
     "output_type": "execute_result"
    }
   ],
   "source": [
    "#performing a quick count to ensure values have been removed \n",
    "df_loan_dataset1['annual_inc'].count()"
   ]
  },
  {
   "cell_type": "code",
   "execution_count": 21,
   "metadata": {},
   "outputs": [
    {
     "name": "stderr",
     "output_type": "stream",
     "text": [
      "/Users/liamoleary/opt/anaconda3/lib/python3.9/site-packages/seaborn/_decorators.py:36: FutureWarning:\n",
      "\n",
      "Pass the following variable as a keyword arg: x. From version 0.12, the only valid positional argument will be `data`, and passing other arguments without an explicit keyword will result in an error or misinterpretation.\n",
      "\n"
     ]
    },
    {
     "data": {
      "text/plain": [
       "<AxesSubplot:xlabel='annual_inc'>"
      ]
     },
     "execution_count": 21,
     "metadata": {},
     "output_type": "execute_result"
    },
    {
     "data": {
      "image/png": "[encoded data removed]",
      "text/plain": [
       "<Figure size 432x288 with 1 Axes>"
      ]
     },
     "metadata": {},
     "output_type": "display_data"
    }
   ],
   "source": [
    "sns.set_theme(style=\"whitegrid\")\n",
    "sns.boxplot(df_loan_dataset1['annual_inc'])"
   ]
  },
  {
   "cell_type": "code",
   "execution_count": 22,
   "metadata": {},
   "outputs": [
    {
     "name": "stderr",
     "output_type": "stream",
     "text": [
      "/Users/liamoleary/opt/anaconda3/lib/python3.9/site-packages/seaborn/_decorators.py:36: FutureWarning:\n",
      "\n",
      "Pass the following variable as a keyword arg: x. From version 0.12, the only valid positional argument will be `data`, and passing other arguments without an explicit keyword will result in an error or misinterpretation.\n",
      "\n"
     ]
    },
    {
     "data": {
      "text/plain": [
       "<AxesSubplot:xlabel='revol_util'>"
      ]
     },
     "execution_count": 22,
     "metadata": {},
     "output_type": "execute_result"
    },
    {
     "data": {
      "image/png": "[encoded data removed]",
      "text/plain": [
       "<Figure size 432x288 with 1 Axes>"
      ]
     },
     "metadata": {},
     "output_type": "display_data"
    }
   ],
   "source": [
    "#want to drill down further on revol_util to detect outliers\n",
    "sns.set_theme(style=\"whitegrid\")\n",
    "sns.boxplot(df_loan_dataset1['revol_util'])"
   ]
  },
  {
   "cell_type": "code",
   "execution_count": 23,
   "metadata": {},
   "outputs": [
    {
     "data": {
      "text/plain": [
       "5010.0"
      ]
     },
     "execution_count": 23,
     "metadata": {},
     "output_type": "execute_result"
    }
   ],
   "source": [
    "#as per the box plot, we can see the outlier to the right. Looking at the maximum value to idenitfy its value \n",
    "df_loan_dataset1['revol_util'].max()\n"
   ]
  },
  {
   "cell_type": "code",
   "execution_count": 24,
   "metadata": {},
   "outputs": [],
   "source": [
    "#removing the value 5010.0 from the dataset\n",
    "df_loan_dataset2 = df_loan_dataset1[df_loan_dataset1.revol_util != 5010.0]"
   ]
  },
  {
   "cell_type": "code",
   "execution_count": 25,
   "metadata": {},
   "outputs": [
    {
     "data": {
      "text/plain": [
       "128.1"
      ]
     },
     "execution_count": 25,
     "metadata": {},
     "output_type": "execute_result"
    }
   ],
   "source": [
    "#making sure there aren't any other outlier values \n",
    "df_loan_dataset2['revol_util'].max()"
   ]
  },
  {
   "cell_type": "code",
   "execution_count": 26,
   "metadata": {},
   "outputs": [],
   "source": [
    "#removing the other value which we have identified as an outlier \n",
    "df_loan_dataset3 = df_loan_dataset2[df_loan_dataset2.revol_util != 128.1]"
   ]
  },
  {
   "cell_type": "code",
   "execution_count": 27,
   "metadata": {},
   "outputs": [
    {
     "name": "stderr",
     "output_type": "stream",
     "text": [
      "/Users/liamoleary/opt/anaconda3/lib/python3.9/site-packages/seaborn/_decorators.py:36: FutureWarning:\n",
      "\n",
      "Pass the following variable as a keyword arg: x. From version 0.12, the only valid positional argument will be `data`, and passing other arguments without an explicit keyword will result in an error or misinterpretation.\n",
      "\n"
     ]
    },
    {
     "data": {
      "text/plain": [
       "<AxesSubplot:xlabel='revol_util'>"
      ]
     },
     "execution_count": 27,
     "metadata": {},
     "output_type": "execute_result"
    },
    {
     "data": {
      "image/png": "[encoded data removed]",
      "text/plain": [
       "<Figure size 432x288 with 1 Axes>"
      ]
     },
     "metadata": {},
     "output_type": "display_data"
    }
   ],
   "source": [
    "#sns.set_theme(style=\"whitegrid\")\n",
    "#sns.boxplot(df_loan_dataset_2['revol_util'])\n",
    "\n",
    "sns.set_theme(style=\"whitegrid\")\n",
    "sns.boxplot(df_loan_dataset3['revol_util'])"
   ]
  },
  {
   "cell_type": "code",
   "execution_count": null,
   "metadata": {},
   "outputs": [],
   "source": [
    "df_loan_dataset3['bad_loan'].value_counts()\n"
   ]
  },
  {
   "cell_type": "code",
   "execution_count": null,
   "metadata": {},
   "outputs": [],
   "source": [
    "df_loan_dataset3['last_major_derog_none'].value_counts()"
   ]
  },
  {
   "cell_type": "code",
   "execution_count": null,
   "metadata": {},
   "outputs": [],
   "source": [
    "df_loan_dataset3['last_delinq_none'].value_counts()"
   ]
  },
  {
   "cell_type": "code",
   "execution_count": null,
   "metadata": {},
   "outputs": [],
   "source": [
    "df_loan_dataset3['short_emp'].value_counts()"
   ]
  },
  {
   "cell_type": "code",
   "execution_count": 29,
   "metadata": {},
   "outputs": [
    {
     "name": "stdout",
     "output_type": "stream",
     "text": [
      "id                           0\n",
      "grade                        0\n",
      "annual_inc                   0\n",
      "short_emp                    0\n",
      "emp_length_num               0\n",
      "home_ownership            1469\n",
      "dti                        152\n",
      "purpose                      0\n",
      "term                         0\n",
      "last_delinq_none             0\n",
      "last_major_derog_none    19080\n",
      "revol_util                   0\n",
      "total_rec_late_fee           0\n",
      "od_ratio                     0\n",
      "bad_loan                     0\n",
      "dtype: int64\n"
     ]
    }
   ],
   "source": [
    "#missing Values\n",
    "print(df_loan_dataset3.isna().sum())  "
   ]
  },
  {
   "cell_type": "code",
   "execution_count": 30,
   "metadata": {},
   "outputs": [
    {
     "name": "stderr",
     "output_type": "stream",
     "text": [
      "/var/folders/k3/46_t4z7174qbg9yzk8mh2kpm0000gn/T/ipykernel_7150/4127133876.py:2: SettingWithCopyWarning:\n",
      "\n",
      "\n",
      "A value is trying to be set on a copy of a slice from a DataFrame.\n",
      "Try using .loc[row_indexer,col_indexer] = value instead\n",
      "\n",
      "See the caveats in the documentation: https://pandas.pydata.org/pandas-docs/stable/user_guide/indexing.html#returning-a-view-versus-a-copy\n",
      "\n"
     ]
    },
    {
     "data": {
      "text/plain": [
       "MORTGAGE    11080\n",
       "RENT         6985\n",
       "OWN          1583\n",
       "Name: home_ownership, dtype: int64"
      ]
     },
     "execution_count": 30,
     "metadata": {},
     "output_type": "execute_result"
    }
   ],
   "source": [
    "#replace missing values - home_ownership (mode imputation)\n",
    "df_loan_dataset3[\"home_ownership\"] = df_loan_dataset3.home_ownership.fillna(df_loan_dataset3.home_ownership.value_counts().index[0])\n",
    "\n",
    "df_loan_dataset3.home_ownership.value_counts(dropna=False)"
   ]
  },
  {
   "cell_type": "code",
   "execution_count": 31,
   "metadata": {},
   "outputs": [
    {
     "name": "stderr",
     "output_type": "stream",
     "text": [
      "/var/folders/k3/46_t4z7174qbg9yzk8mh2kpm0000gn/T/ipykernel_7150/2528799242.py:2: SettingWithCopyWarning:\n",
      "\n",
      "\n",
      "A value is trying to be set on a copy of a slice from a DataFrame.\n",
      "Try using .loc[row_indexer,col_indexer] = value instead\n",
      "\n",
      "See the caveats in the documentation: https://pandas.pydata.org/pandas-docs/stable/user_guide/indexing.html#returning-a-view-versus-a-copy\n",
      "\n"
     ]
    },
    {
     "data": {
      "text/plain": [
       "16.70749    152\n",
       "19.64000     20\n",
       "15.87000     20\n",
       "11.45000     19\n",
       "19.25000     19\n",
       "           ... \n",
       "2.32000       1\n",
       "34.98000      1\n",
       "33.44000      1\n",
       "2.63000       1\n",
       "32.53000      1\n",
       "Name: dti, Length: 3293, dtype: int64"
      ]
     },
     "execution_count": 31,
     "metadata": {},
     "output_type": "execute_result"
    }
   ],
   "source": [
    "#replace missing values - dti (mean)\n",
    "df_loan_dataset3[\"dti\"] = df_loan_dataset3.dti.fillna(df_loan_dataset3.dti.mean())\n",
    "\n",
    "df_loan_dataset3.dti.value_counts(dropna=False)"
   ]
  },
  {
   "cell_type": "code",
   "execution_count": 32,
   "metadata": {},
   "outputs": [
    {
     "name": "stderr",
     "output_type": "stream",
     "text": [
      "/var/folders/k3/46_t4z7174qbg9yzk8mh2kpm0000gn/T/ipykernel_7150/2460903156.py:2: SettingWithCopyWarning:\n",
      "\n",
      "\n",
      "A value is trying to be set on a copy of a slice from a DataFrame\n",
      "\n",
      "See the caveats in the documentation: https://pandas.pydata.org/pandas-docs/stable/user_guide/indexing.html#returning-a-view-versus-a-copy\n",
      "\n"
     ]
    }
   ],
   "source": [
    "#replace missing values - last_major_derog_none (remove)\n",
    "df_loan_dataset3.drop(\"last_major_derog_none\", axis=1, inplace=True)\n"
   ]
  },
  {
   "cell_type": "code",
   "execution_count": 33,
   "metadata": {},
   "outputs": [
    {
     "name": "stderr",
     "output_type": "stream",
     "text": [
      "/var/folders/k3/46_t4z7174qbg9yzk8mh2kpm0000gn/T/ipykernel_7150/1065586536.py:1: SettingWithCopyWarning:\n",
      "\n",
      "\n",
      "A value is trying to be set on a copy of a slice from a DataFrame.\n",
      "Try using .loc[row_indexer,col_indexer] = value instead\n",
      "\n",
      "See the caveats in the documentation: https://pandas.pydata.org/pandas-docs/stable/user_guide/indexing.html#returning-a-view-versus-a-copy\n",
      "\n"
     ]
    }
   ],
   "source": [
    "df_loan_dataset3['annual_inc'] = df_loan_dataset3.annual_inc.fillna(df_loan_dataset3.annual_inc.mean())"
   ]
  },
  {
   "cell_type": "code",
   "execution_count": 34,
   "metadata": {},
   "outputs": [
    {
     "name": "stdout",
     "output_type": "stream",
     "text": [
      "id                    0\n",
      "grade                 0\n",
      "annual_inc            0\n",
      "short_emp             0\n",
      "emp_length_num        0\n",
      "home_ownership        0\n",
      "dti                   0\n",
      "purpose               0\n",
      "term                  0\n",
      "last_delinq_none      0\n",
      "revol_util            0\n",
      "total_rec_late_fee    0\n",
      "od_ratio              0\n",
      "bad_loan              0\n",
      "dtype: int64\n"
     ]
    }
   ],
   "source": [
    "#showing that all missing values have been removed or dealt with\n",
    "print(df_loan_dataset3.isna().sum())"
   ]
  },
  {
   "cell_type": "code",
   "execution_count": 41,
   "metadata": {},
   "outputs": [
    {
     "name": "stdout",
     "output_type": "stream",
     "text": [
      "             id  annual_inc  short_emp  emp_length_num    dti  \\\n",
      "0      11454641      100000          1               1  26.27   \n",
      "1       9604874       83000          0               4   5.39   \n",
      "2       9684700       78000          0              11  18.45   \n",
      "3       9695736       37536          0               6  12.28   \n",
      "4       9795013       65000          0              11  11.26   \n",
      "...         ...         ...        ...             ...    ...   \n",
      "19995   6595657       27000          0               9  18.36   \n",
      "19996   1576331       45000          0               2  23.22   \n",
      "19997   6645736      104000          0               5  13.27   \n",
      "19998   6625736       38400          0               2  12.84   \n",
      "19999   6625685      150000          0              11   2.20   \n",
      "\n",
      "       last_delinq_none  revol_util  total_rec_late_fee  od_ratio  bad_loan  \n",
      "0                     1        43.2                 0.0  0.160624         0  \n",
      "1                     0        21.5                 0.0  0.810777         0  \n",
      "2                     1        46.3                 0.0  0.035147         1  \n",
      "3                     0        10.7                 0.0  0.534887         1  \n",
      "4                     0        15.2                 0.0  0.166500         0  \n",
      "...                 ...         ...                 ...       ...       ...  \n",
      "19995                 1        46.5                 0.0  0.821782         1  \n",
      "19996                 0        46.2                 0.0  0.652200         0  \n",
      "19997                 1        78.5                 0.0  0.482555         0  \n",
      "19998                 0        47.4                 0.0  0.822980         0  \n",
      "19999                 0        40.7                 0.0  0.201388         0  \n",
      "\n",
      "[19648 rows x 10 columns]\n"
     ]
    }
   ],
   "source": [
    "#split the data into numeric \n",
    "data_num1 = df_loan_dataset3.select_dtypes(exclude=[\"object\",\"category\"]).copy()\n",
    "print(data_num1)\n"
   ]
  },
  {
   "cell_type": "code",
   "execution_count": 39,
   "metadata": {},
   "outputs": [
    {
     "name": "stdout",
     "output_type": "stream",
     "text": [
      "      grade home_ownership             purpose        term\n",
      "0         A           RENT         credit_card   36 months\n",
      "1         A            OWN         credit_card   36 months\n",
      "2         D       MORTGAGE  debt_consolidation   60 months\n",
      "3         D       MORTGAGE             medical   60 months\n",
      "4         D       MORTGAGE  debt_consolidation   36 months\n",
      "...     ...            ...                 ...         ...\n",
      "19995     B           RENT  debt_consolidation   36 months\n",
      "19996     B       MORTGAGE      major_purchase   36 months\n",
      "19997     B       MORTGAGE  debt_consolidation   36 months\n",
      "19998     A       MORTGAGE  debt_consolidation   36 months\n",
      "19999     B       MORTGAGE         credit_card   36 months\n",
      "\n",
      "[19648 rows x 4 columns]\n"
     ]
    }
   ],
   "source": [
    "#split the data into categorical\n",
    "data_cat = df_loan_dataset3.select_dtypes(exclude=[\"int64\",\"float64\"]).copy()\n",
    "print(data_cat)"
   ]
  },
  {
   "cell_type": "code",
   "execution_count": 42,
   "metadata": {},
   "outputs": [
    {
     "ename": "ValueError",
     "evalue": "Must pass 2-d input. shape=()",
     "output_type": "error",
     "traceback": [
      "\u001b[0;31m---------------------------------------------------------------------------\u001b[0m",
      "\u001b[0;31mValueError\u001b[0m                                Traceback (most recent call last)",
      "\u001b[1;32m/Users/liamoleary/GitHub/Data_Projects/Loan Default Project.ipynb Cell 41\u001b[0m in \u001b[0;36m<cell line: 7>\u001b[0;34m()\u001b[0m\n\u001b[1;32m      <a href='vscode-notebook-cell:/Users/liamoleary/GitHub/Data_Projects/Loan%20Default%20Project.ipynb#ch0000041?line=4'>5</a>\u001b[0m bestfeatures \u001b[39m=\u001b[39m SelectKBest(score_func\u001b[39m=\u001b[39mchi2, k\u001b[39m=\u001b[39m\u001b[39m'\u001b[39m\u001b[39mall\u001b[39m\u001b[39m'\u001b[39m)\n\u001b[1;32m      <a href='vscode-notebook-cell:/Users/liamoleary/GitHub/Data_Projects/Loan%20Default%20Project.ipynb#ch0000041?line=5'>6</a>\u001b[0m fit \u001b[39m=\u001b[39m bestfeatures\u001b[39m.\u001b[39mfit(X,y)\n\u001b[0;32m----> <a href='vscode-notebook-cell:/Users/liamoleary/GitHub/Data_Projects/Loan%20Default%20Project.ipynb#ch0000041?line=6'>7</a>\u001b[0m dfscores \u001b[39m=\u001b[39m pd\u001b[39m.\u001b[39;49mDataFrame(fit\u001b[39m.\u001b[39;49mscores_)\n\u001b[1;32m      <a href='vscode-notebook-cell:/Users/liamoleary/GitHub/Data_Projects/Loan%20Default%20Project.ipynb#ch0000041?line=7'>8</a>\u001b[0m dfcolumns \u001b[39m=\u001b[39m pd\u001b[39m.\u001b[39mDataFrame(X\u001b[39m.\u001b[39mcolumns)\n\u001b[1;32m      <a href='vscode-notebook-cell:/Users/liamoleary/GitHub/Data_Projects/Loan%20Default%20Project.ipynb#ch0000041?line=8'>9</a>\u001b[0m \u001b[39m#concat two dataframes for better visualization \u001b[39;00m\n",
      "File \u001b[0;32m~/opt/anaconda3/lib/python3.9/site-packages/pandas/core/frame.py:694\u001b[0m, in \u001b[0;36mDataFrame.__init__\u001b[0;34m(self, data, index, columns, dtype, copy)\u001b[0m\n\u001b[1;32m    684\u001b[0m         mgr \u001b[39m=\u001b[39m dict_to_mgr(\n\u001b[1;32m    685\u001b[0m             \u001b[39m# error: Item \"ndarray\" of \"Union[ndarray, Series, Index]\" has no\u001b[39;00m\n\u001b[1;32m    686\u001b[0m             \u001b[39m# attribute \"name\"\u001b[39;00m\n\u001b[0;32m   (...)\u001b[0m\n\u001b[1;32m    691\u001b[0m             typ\u001b[39m=\u001b[39mmanager,\n\u001b[1;32m    692\u001b[0m         )\n\u001b[1;32m    693\u001b[0m     \u001b[39melse\u001b[39;00m:\n\u001b[0;32m--> 694\u001b[0m         mgr \u001b[39m=\u001b[39m ndarray_to_mgr(\n\u001b[1;32m    695\u001b[0m             data,\n\u001b[1;32m    696\u001b[0m             index,\n\u001b[1;32m    697\u001b[0m             columns,\n\u001b[1;32m    698\u001b[0m             dtype\u001b[39m=\u001b[39;49mdtype,\n\u001b[1;32m    699\u001b[0m             copy\u001b[39m=\u001b[39;49mcopy,\n\u001b[1;32m    700\u001b[0m             typ\u001b[39m=\u001b[39;49mmanager,\n\u001b[1;32m    701\u001b[0m         )\n\u001b[1;32m    703\u001b[0m \u001b[39m# For data is list-like, or Iterable (will consume into list)\u001b[39;00m\n\u001b[1;32m    704\u001b[0m \u001b[39melif\u001b[39;00m is_list_like(data):\n",
      "File \u001b[0;32m~/opt/anaconda3/lib/python3.9/site-packages/pandas/core/internals/construction.py:331\u001b[0m, in \u001b[0;36mndarray_to_mgr\u001b[0;34m(values, index, columns, dtype, copy, typ)\u001b[0m\n\u001b[1;32m    326\u001b[0m         values \u001b[39m=\u001b[39m values\u001b[39m.\u001b[39mreshape(\u001b[39m-\u001b[39m\u001b[39m1\u001b[39m, \u001b[39m1\u001b[39m)\n\u001b[1;32m    328\u001b[0m \u001b[39melse\u001b[39;00m:\n\u001b[1;32m    329\u001b[0m     \u001b[39m# by definition an array here\u001b[39;00m\n\u001b[1;32m    330\u001b[0m     \u001b[39m# the dtypes will be coerced to a single dtype\u001b[39;00m\n\u001b[0;32m--> 331\u001b[0m     values \u001b[39m=\u001b[39m _prep_ndarray(values, copy\u001b[39m=\u001b[39;49mcopy_on_sanitize)\n\u001b[1;32m    333\u001b[0m \u001b[39mif\u001b[39;00m dtype \u001b[39mis\u001b[39;00m \u001b[39mnot\u001b[39;00m \u001b[39mNone\u001b[39;00m \u001b[39mand\u001b[39;00m \u001b[39mnot\u001b[39;00m is_dtype_equal(values\u001b[39m.\u001b[39mdtype, dtype):\n\u001b[1;32m    334\u001b[0m     shape \u001b[39m=\u001b[39m values\u001b[39m.\u001b[39mshape\n",
      "File \u001b[0;32m~/opt/anaconda3/lib/python3.9/site-packages/pandas/core/internals/construction.py:591\u001b[0m, in \u001b[0;36m_prep_ndarray\u001b[0;34m(values, copy)\u001b[0m\n\u001b[1;32m    589\u001b[0m     values \u001b[39m=\u001b[39m values\u001b[39m.\u001b[39mreshape((values\u001b[39m.\u001b[39mshape[\u001b[39m0\u001b[39m], \u001b[39m1\u001b[39m))\n\u001b[1;32m    590\u001b[0m \u001b[39melif\u001b[39;00m values\u001b[39m.\u001b[39mndim \u001b[39m!=\u001b[39m \u001b[39m2\u001b[39m:\n\u001b[0;32m--> 591\u001b[0m     \u001b[39mraise\u001b[39;00m \u001b[39mValueError\u001b[39;00m(\u001b[39mf\u001b[39m\u001b[39m\"\u001b[39m\u001b[39mMust pass 2-d input. shape=\u001b[39m\u001b[39m{\u001b[39;00mvalues\u001b[39m.\u001b[39mshape\u001b[39m}\u001b[39;00m\u001b[39m\"\u001b[39m)\n\u001b[1;32m    593\u001b[0m \u001b[39mreturn\u001b[39;00m values\n",
      "\u001b[0;31mValueError\u001b[0m: Must pass 2-d input. shape=()"
     ]
    }
   ],
   "source": [
    "#Feature Selection \n",
    "X = data_num1.iloc[:,0:20]  #independent columns\n",
    "y = data_num1.iloc[:,-1]    #target column i.e price range\n",
    "#apply SelectKBest class to extract top 10 best features\n",
    "bestfeatures = SelectKBest(score_func=chi2, k='all')\n",
    "fit = bestfeatures.fit(X,y)\n",
    "dfscores = pd.DataFrame(fit.scores_)\n",
    "dfcolumns = pd.DataFrame(X.columns)\n",
    "#concat two dataframes for better visualization \n",
    "featureScores = pd.concat([dfcolumns,dfscores],axis=1)\n",
    "featureScores.columns = ['Specs','Score']  #naming the dataframe columns\n",
    "print(featureScores.nlargest(10,'Score'))  #print 10 best features"
   ]
  },
  {
   "cell_type": "code",
   "execution_count": 43,
   "metadata": {},
   "outputs": [],
   "source": [
    "#take a copy of our dataset \n",
    "data_1 = df_loan_dataset3.copy()\n",
    "#drop the id column as it is an unecessary feature in our model. From our test on categorical features, we will drop od_ratio\n",
    "data_2 = data_1.drop(columns=['id','od_ratio']).copy()"
   ]
  },
  {
   "cell_type": "code",
   "execution_count": 44,
   "metadata": {},
   "outputs": [],
   "source": [
    "\n",
    "data_cat['target'] = df_loan_dataset3.bad_loan\n",
    "data_cat.dropna(how=\"any\", inplace=True)\n",
    "\n",
    "ydata_cat = data_cat.target\n",
    "data_cat.drop(\"target\", axis=1, inplace=True)"
   ]
  },
  {
   "cell_type": "code",
   "execution_count": 45,
   "metadata": {},
   "outputs": [
    {
     "name": "stdout",
     "output_type": "stream",
     "text": [
      "\n"
     ]
    },
    {
     "data": {
      "text/html": [
       "<div>\n",
       "<style scoped>\n",
       "    .dataframe tbody tr th:only-of-type {\n",
       "        vertical-align: middle;\n",
       "    }\n",
       "\n",
       "    .dataframe tbody tr th {\n",
       "        vertical-align: top;\n",
       "    }\n",
       "\n",
       "    .dataframe thead th {\n",
       "        text-align: right;\n",
       "    }\n",
       "</style>\n",
       "<table border=\"1\" class=\"dataframe\">\n",
       "  <thead>\n",
       "    <tr style=\"text-align: right;\">\n",
       "      <th>target</th>\n",
       "      <th>0</th>\n",
       "      <th>1</th>\n",
       "    </tr>\n",
       "    <tr>\n",
       "      <th>grade</th>\n",
       "      <th></th>\n",
       "      <th></th>\n",
       "    </tr>\n",
       "  </thead>\n",
       "  <tbody>\n",
       "    <tr>\n",
       "      <th>A</th>\n",
       "      <td>1971</td>\n",
       "      <td>122</td>\n",
       "    </tr>\n",
       "    <tr>\n",
       "      <th>B</th>\n",
       "      <td>5200</td>\n",
       "      <td>759</td>\n",
       "    </tr>\n",
       "    <tr>\n",
       "      <th>C</th>\n",
       "      <td>4318</td>\n",
       "      <td>1161</td>\n",
       "    </tr>\n",
       "    <tr>\n",
       "      <th>D</th>\n",
       "      <td>2526</td>\n",
       "      <td>967</td>\n",
       "    </tr>\n",
       "    <tr>\n",
       "      <th>E</th>\n",
       "      <td>1079</td>\n",
       "      <td>533</td>\n",
       "    </tr>\n",
       "    <tr>\n",
       "      <th>F</th>\n",
       "      <td>505</td>\n",
       "      <td>345</td>\n",
       "    </tr>\n",
       "    <tr>\n",
       "      <th>G</th>\n",
       "      <td>101</td>\n",
       "      <td>61</td>\n",
       "    </tr>\n",
       "  </tbody>\n",
       "</table>\n",
       "</div>"
      ],
      "text/plain": [
       "target     0     1\n",
       "grade             \n",
       "A       1971   122\n",
       "B       5200   759\n",
       "C       4318  1161\n",
       "D       2526   967\n",
       "E       1079   533\n",
       "F        505   345\n",
       "G        101    61"
      ]
     },
     "metadata": {},
     "output_type": "display_data"
    },
    {
     "name": "stdout",
     "output_type": "stream",
     "text": [
      "p-value: 0.0000000000000000000000000\n",
      "\n"
     ]
    },
    {
     "data": {
      "text/html": [
       "<div>\n",
       "<style scoped>\n",
       "    .dataframe tbody tr th:only-of-type {\n",
       "        vertical-align: middle;\n",
       "    }\n",
       "\n",
       "    .dataframe tbody tr th {\n",
       "        vertical-align: top;\n",
       "    }\n",
       "\n",
       "    .dataframe thead th {\n",
       "        text-align: right;\n",
       "    }\n",
       "</style>\n",
       "<table border=\"1\" class=\"dataframe\">\n",
       "  <thead>\n",
       "    <tr style=\"text-align: right;\">\n",
       "      <th>target</th>\n",
       "      <th>0</th>\n",
       "      <th>1</th>\n",
       "    </tr>\n",
       "    <tr>\n",
       "      <th>home_ownership</th>\n",
       "      <th></th>\n",
       "      <th></th>\n",
       "    </tr>\n",
       "  </thead>\n",
       "  <tbody>\n",
       "    <tr>\n",
       "      <th>MORTGAGE</th>\n",
       "      <td>9117</td>\n",
       "      <td>1963</td>\n",
       "    </tr>\n",
       "    <tr>\n",
       "      <th>OWN</th>\n",
       "      <td>1269</td>\n",
       "      <td>314</td>\n",
       "    </tr>\n",
       "    <tr>\n",
       "      <th>RENT</th>\n",
       "      <td>5314</td>\n",
       "      <td>1671</td>\n",
       "    </tr>\n",
       "  </tbody>\n",
       "</table>\n",
       "</div>"
      ],
      "text/plain": [
       "target             0     1\n",
       "home_ownership            \n",
       "MORTGAGE        9117  1963\n",
       "OWN             1269   314\n",
       "RENT            5314  1671"
      ]
     },
     "metadata": {},
     "output_type": "display_data"
    },
    {
     "name": "stdout",
     "output_type": "stream",
     "text": [
      "p-value: 0.0000000000000000000000466\n",
      "\n"
     ]
    },
    {
     "data": {
      "text/html": [
       "<div>\n",
       "<style scoped>\n",
       "    .dataframe tbody tr th:only-of-type {\n",
       "        vertical-align: middle;\n",
       "    }\n",
       "\n",
       "    .dataframe tbody tr th {\n",
       "        vertical-align: top;\n",
       "    }\n",
       "\n",
       "    .dataframe thead th {\n",
       "        text-align: right;\n",
       "    }\n",
       "</style>\n",
       "<table border=\"1\" class=\"dataframe\">\n",
       "  <thead>\n",
       "    <tr style=\"text-align: right;\">\n",
       "      <th>target</th>\n",
       "      <th>0</th>\n",
       "      <th>1</th>\n",
       "    </tr>\n",
       "    <tr>\n",
       "      <th>purpose</th>\n",
       "      <th></th>\n",
       "      <th></th>\n",
       "    </tr>\n",
       "  </thead>\n",
       "  <tbody>\n",
       "    <tr>\n",
       "      <th>car</th>\n",
       "      <td>135</td>\n",
       "      <td>30</td>\n",
       "    </tr>\n",
       "    <tr>\n",
       "      <th>credit_card</th>\n",
       "      <td>3394</td>\n",
       "      <td>693</td>\n",
       "    </tr>\n",
       "    <tr>\n",
       "      <th>debt_consolidation</th>\n",
       "      <td>9702</td>\n",
       "      <td>2454</td>\n",
       "    </tr>\n",
       "    <tr>\n",
       "      <th>home_improvement</th>\n",
       "      <td>841</td>\n",
       "      <td>204</td>\n",
       "    </tr>\n",
       "    <tr>\n",
       "      <th>house</th>\n",
       "      <td>80</td>\n",
       "      <td>15</td>\n",
       "    </tr>\n",
       "    <tr>\n",
       "      <th>major_purchase</th>\n",
       "      <td>279</td>\n",
       "      <td>84</td>\n",
       "    </tr>\n",
       "    <tr>\n",
       "      <th>medical</th>\n",
       "      <td>129</td>\n",
       "      <td>37</td>\n",
       "    </tr>\n",
       "    <tr>\n",
       "      <th>moving</th>\n",
       "      <td>92</td>\n",
       "      <td>30</td>\n",
       "    </tr>\n",
       "    <tr>\n",
       "      <th>other</th>\n",
       "      <td>731</td>\n",
       "      <td>271</td>\n",
       "    </tr>\n",
       "    <tr>\n",
       "      <th>small_business</th>\n",
       "      <td>168</td>\n",
       "      <td>85</td>\n",
       "    </tr>\n",
       "    <tr>\n",
       "      <th>vacation</th>\n",
       "      <td>84</td>\n",
       "      <td>26</td>\n",
       "    </tr>\n",
       "    <tr>\n",
       "      <th>wedding</th>\n",
       "      <td>65</td>\n",
       "      <td>19</td>\n",
       "    </tr>\n",
       "  </tbody>\n",
       "</table>\n",
       "</div>"
      ],
      "text/plain": [
       "target                 0     1\n",
       "purpose                       \n",
       "car                  135    30\n",
       "credit_card         3394   693\n",
       "debt_consolidation  9702  2454\n",
       "home_improvement     841   204\n",
       "house                 80    15\n",
       "major_purchase       279    84\n",
       "medical              129    37\n",
       "moving                92    30\n",
       "other                731   271\n",
       "small_business       168    85\n",
       "vacation              84    26\n",
       "wedding               65    19"
      ]
     },
     "metadata": {},
     "output_type": "display_data"
    },
    {
     "name": "stdout",
     "output_type": "stream",
     "text": [
      "p-value: 0.0000000000000104754118564\n",
      "\n"
     ]
    },
    {
     "data": {
      "text/html": [
       "<div>\n",
       "<style scoped>\n",
       "    .dataframe tbody tr th:only-of-type {\n",
       "        vertical-align: middle;\n",
       "    }\n",
       "\n",
       "    .dataframe tbody tr th {\n",
       "        vertical-align: top;\n",
       "    }\n",
       "\n",
       "    .dataframe thead th {\n",
       "        text-align: right;\n",
       "    }\n",
       "</style>\n",
       "<table border=\"1\" class=\"dataframe\">\n",
       "  <thead>\n",
       "    <tr style=\"text-align: right;\">\n",
       "      <th>target</th>\n",
       "      <th>0</th>\n",
       "      <th>1</th>\n",
       "    </tr>\n",
       "    <tr>\n",
       "      <th>term</th>\n",
       "      <th></th>\n",
       "      <th></th>\n",
       "    </tr>\n",
       "  </thead>\n",
       "  <tbody>\n",
       "    <tr>\n",
       "      <th>36 Months</th>\n",
       "      <td>26</td>\n",
       "      <td>5</td>\n",
       "    </tr>\n",
       "    <tr>\n",
       "      <th>36 months</th>\n",
       "      <td>12207</td>\n",
       "      <td>2503</td>\n",
       "    </tr>\n",
       "    <tr>\n",
       "      <th>60 months</th>\n",
       "      <td>3467</td>\n",
       "      <td>1440</td>\n",
       "    </tr>\n",
       "  </tbody>\n",
       "</table>\n",
       "</div>"
      ],
      "text/plain": [
       "target          0     1\n",
       "term                   \n",
       " 36 Months     26     5\n",
       " 36 months  12207  2503\n",
       " 60 months   3467  1440"
      ]
     },
     "metadata": {},
     "output_type": "display_data"
    },
    {
     "name": "stdout",
     "output_type": "stream",
     "text": [
      "p-value: 0.0000000000000000000000000\n"
     ]
    }
   ],
   "source": [
    "for col in data_cat.columns:\n",
    "    table = pd.crosstab(data_cat[col], ydata_cat)\n",
    "    print()\n",
    "    display(table)\n",
    "    _, pval, _, expected_table = scipy.stats.chi2_contingency(table)\n",
    "    print(f\"p-value: {pval:.25f}\")"
   ]
  },
  {
   "cell_type": "code",
   "execution_count": 46,
   "metadata": {},
   "outputs": [],
   "source": [
    "#Encoding and Transformations \n",
    "\n",
    "#Variable - Grade\n",
    "data_2[\"grade\"] = data_2.grade.map({\"A\":7, \"B\":6, \"C\":5, \"D\":4, \"E\":3, \"F\":2, \"G\":1})\n",
    "\n",
    "#Variables - Term, Home Ownership and Purpose \n",
    "data_2 = pd.get_dummies(data_2, columns =[\"term\", \"home_ownership\", \"purpose\"])\n"
   ]
  },
  {
   "cell_type": "code",
   "execution_count": 47,
   "metadata": {},
   "outputs": [
    {
     "name": "stdout",
     "output_type": "stream",
     "text": [
      "   grade  annual_inc  short_emp  emp_length_num    dti  last_delinq_none  \\\n",
      "0      7      100000          1               1  26.27                 1   \n",
      "1      7       83000          0               4   5.39                 0   \n",
      "2      4       78000          0              11  18.45                 1   \n",
      "3      4       37536          0               6  12.28                 0   \n",
      "4      4       65000          0              11  11.26                 0   \n",
      "\n",
      "   revol_util  total_rec_late_fee  bad_loan  term_ 36 Months  ...  \\\n",
      "0        43.2                 0.0         0                0  ...   \n",
      "1        21.5                 0.0         0                0  ...   \n",
      "2        46.3                 0.0         1                0  ...   \n",
      "3        10.7                 0.0         1                0  ...   \n",
      "4        15.2                 0.0         0                0  ...   \n",
      "\n",
      "   purpose_debt_consolidation  purpose_home_improvement  purpose_house  \\\n",
      "0                           0                         0              0   \n",
      "1                           0                         0              0   \n",
      "2                           1                         0              0   \n",
      "3                           0                         0              0   \n",
      "4                           1                         0              0   \n",
      "\n",
      "   purpose_major_purchase  purpose_medical  purpose_moving  purpose_other  \\\n",
      "0                       0                0               0              0   \n",
      "1                       0                0               0              0   \n",
      "2                       0                0               0              0   \n",
      "3                       0                1               0              0   \n",
      "4                       0                0               0              0   \n",
      "\n",
      "   purpose_small_business  purpose_vacation  purpose_wedding  \n",
      "0                       0                 0                0  \n",
      "1                       0                 0                0  \n",
      "2                       0                 0                0  \n",
      "3                       0                 0                0  \n",
      "4                       0                 0                0  \n",
      "\n",
      "[5 rows x 27 columns]\n"
     ]
    }
   ],
   "source": [
    "print(data_2.head(5))"
   ]
  },
  {
   "cell_type": "code",
   "execution_count": 57,
   "metadata": {},
   "outputs": [],
   "source": [
    "#Machine Learning - Predictive Modelling \n",
    "\n",
    "#ROC Curve - Area Under the Curve \n",
    "##Creating a Dataset\n",
    "def auc_roc_plot(y_test, y_preds):\n",
    "    fpr, tpr, thresholds = roc_curve(y_test,y_preds)\n",
    "    roc_auc = auc(fpr, tpr)\n",
    "    print(roc_auc)\n",
    "    plt.title('Receiver Operating Characteristic')\n",
    "    plt.plot(fpr, tpr, 'b', label = 'AUC = %0.2f' % roc_auc)\n",
    "    plt.legend(loc = 'lower right')\n",
    "    plt.plot([0, 1], [0, 1],'r--')\n",
    "    plt.xlim([0, 1])\n",
    "    plt.ylim([0, 1])\n",
    "    plt.ylabel('True Positive Rate')\n",
    "    plt.xlabel('False Positive Rate')\n",
    "    plt.show()"
   ]
  },
  {
   "cell_type": "code",
   "execution_count": 52,
   "metadata": {},
   "outputs": [
    {
     "name": "stdout",
     "output_type": "stream",
     "text": [
      "Using matplotlib backend: MacOSX\n"
     ]
    }
   ],
   "source": [
    "%matplotlib\n",
    "seed = 42\n",
    "# Making a copy of the dataset\n",
    "df_lr = data_2.copy()\n",
    "\n",
    "# Dividing the dataset into training (80%) and testing (20%)\n",
    "train_set_lr, test_set_lr = train_test_split(df_lr, test_size = 0.2, random_state = seed)\n",
    "X_train_lr = train_set_lr.drop(['bad_loan'], axis = 1)\n",
    "y_train_lr = train_set_lr['bad_loan']\n",
    "X_test_lr = test_set_lr.drop(['bad_loan'], axis = 1)\n",
    "y_test_lr = test_set_lr['bad_loan']\n",
    "\n",
    "# Normalizing the train and test data\n",
    "scaler_lr = MinMaxScaler()\n",
    "features_names = X_train_lr.columns\n",
    "X_train_lr = scaler_lr.fit_transform(X_train_lr)\n",
    "X_train_lr = pd.DataFrame(X_train_lr, columns = features_names)\n",
    "X_test_lr = scaler_lr.transform(X_test_lr)\n",
    "X_test_lr = pd.DataFrame(X_test_lr, columns = features_names)\n",
    "\n"
   ]
  },
  {
   "cell_type": "code",
   "execution_count": 60,
   "metadata": {},
   "outputs": [
    {
     "name": "stdout",
     "output_type": "stream",
     "text": [
      "0.715701392046279\n"
     ]
    },
    {
     "data": {
      "image/png": "[encoded data removed]",
      "text/plain": [
       "<Figure size 432x288 with 1 Axes>"
      ]
     },
     "metadata": {
      "needs_background": "light"
     },
     "output_type": "display_data"
    },
    {
     "name": "stdout",
     "output_type": "stream",
     "text": [
      "CPU times: user 6.44 s, sys: 140 ms, total: 6.58 s\n",
      "Wall time: 4.04 s\n"
     ]
    }
   ],
   "source": [
    "%%time\n",
    "lr = LogisticRegression(max_iter = 1000, solver = 'lbfgs', random_state = seed, class_weight = 'balanced' )\n",
    "\n",
    "parameters = {'C':[0.001, 0.01, 0.1, 1, 10, 100]}\n",
    "\n",
    "clf_lr = GridSearchCV(lr, parameters, cv = 5).fit(X_train_lr, y_train_lr)\n",
    "\n",
    "\n",
    "clf_lr\n",
    "\n",
    "clf_lr.best_estimator_\n",
    "\n",
    "\n",
    "y_preds_lr = clf_lr.predict_proba(X_test_lr)[:,1]\n",
    "\n",
    "auc_roc_plot(y_test_lr, y_preds_lr)"
   ]
  },
  {
   "cell_type": "code",
   "execution_count": 64,
   "metadata": {},
   "outputs": [
    {
     "name": "stderr",
     "output_type": "stream",
     "text": [
      "/Users/liamoleary/opt/anaconda3/lib/python3.9/site-packages/sklearn/utils/deprecation.py:87: FutureWarning:\n",
      "\n",
      "Function plot_confusion_matrix is deprecated; Function `plot_confusion_matrix` is deprecated in 1.0 and will be removed in 1.2. Use one of the class methods: ConfusionMatrixDisplay.from_predictions or ConfusionMatrixDisplay.from_estimator.\n",
      "\n"
     ]
    },
    {
     "data": {
      "image/png": "[encoded data removed]",
      "text/plain": [
       "<Figure size 432x288 with 2 Axes>"
      ]
     },
     "metadata": {
      "needs_background": "light"
     },
     "output_type": "display_data"
    }
   ],
   "source": [
    "plot_confusion_matrix(clf_lr, X_test_lr, y_test_lr, values_format=\".4g\", cmap=\"Blues\");\n",
    "\n",
    "# Creating assignments for Final Results\n",
    "tn, fp, fn, tp = confusion_matrix(y_test_lr == 1, y_preds_lr > 0.5).ravel()\n",
    "tn_lr = tn\n",
    "fp_lr = fp\n",
    "fn_lr = fn\n",
    "tp_lr = tp"
   ]
  },
  {
   "cell_type": "code",
   "execution_count": 66,
   "metadata": {},
   "outputs": [],
   "source": [
    "# Making a copy of the dataset\n",
    "df_nn = data_2.copy()\n",
    "\n",
    "# Dividing the dataset in train (80%) and test (20%)\n",
    "train_set_nn, test_set_nn = train_test_split(df_nn, test_size = 0.2, random_state = seed)\n",
    "X_train_nn = train_set_nn.drop(['bad_loan'], axis = 1)\n",
    "y_train_nn = train_set_nn['bad_loan']\n",
    "X_test_nn = test_set_nn.drop(['bad_loan'], axis = 1)\n",
    "y_test_nn = test_set_nn['bad_loan']\n",
    "\n",
    "# Normalization of the train and test data\n",
    "scaler_nn = MinMaxScaler()\n",
    "features_names = X_train_nn.columns\n",
    "X_train_nn = scaler_nn.fit_transform(X_train_nn)\n",
    "X_train_nn = pd.DataFrame(X_train_nn, columns = features_names)\n",
    "X_test_nn = scaler_nn.transform(X_test_nn)\n",
    "X_test_nn = pd.DataFrame(X_test_nn, columns = features_names)\n"
   ]
  },
  {
   "cell_type": "code",
   "execution_count": 69,
   "metadata": {},
   "outputs": [
    {
     "name": "stdout",
     "output_type": "stream",
     "text": [
      "0.7153933812504233\n"
     ]
    },
    {
     "data": {
      "image/png": "[encoded data removed]",
      "text/plain": [
       "<Figure size 432x288 with 1 Axes>"
      ]
     },
     "metadata": {
      "needs_background": "light"
     },
     "output_type": "display_data"
    },
    {
     "name": "stdout",
     "output_type": "stream",
     "text": [
      "CPU times: user 9min 59s, sys: 9.13 s, total: 10min 8s\n",
      "Wall time: 5min 56s\n"
     ]
    }
   ],
   "source": [
    "%%time\n",
    "mlp_nn = MLPClassifier(solver = 'adam', random_state = seed, max_iter = 1000 )\n",
    "\n",
    "parameters = {'hidden_layer_sizes': [(20,), (20,10), (20, 10, 2)], 'learning_rate_init':[0.0001, 0.001, 0.01, 0.1]}\n",
    "\n",
    "clf_nn = GridSearchCV(mlp_nn, parameters, cv = 5).fit(X_train_nn, y_train_nn)\n",
    "\n",
    "\n",
    "y_preds_nn = clf_nn.predict_proba(X_test_nn)[:,1]\n",
    "\n",
    "auc_roc_plot(y_test_nn, y_preds_nn)"
   ]
  },
  {
   "cell_type": "code",
   "execution_count": 71,
   "metadata": {},
   "outputs": [
    {
     "name": "stderr",
     "output_type": "stream",
     "text": [
      "/Users/liamoleary/opt/anaconda3/lib/python3.9/site-packages/sklearn/utils/deprecation.py:87: FutureWarning:\n",
      "\n",
      "Function plot_confusion_matrix is deprecated; Function `plot_confusion_matrix` is deprecated in 1.0 and will be removed in 1.2. Use one of the class methods: ConfusionMatrixDisplay.from_predictions or ConfusionMatrixDisplay.from_estimator.\n",
      "\n"
     ]
    },
    {
     "data": {
      "image/png": "[encoded data removed]",
      "text/plain": [
       "<Figure size 432x288 with 2 Axes>"
      ]
     },
     "metadata": {
      "needs_background": "light"
     },
     "output_type": "display_data"
    }
   ],
   "source": [
    "# Confusion Matrix display\n",
    "plot_confusion_matrix(clf_nn, X_test_nn, y_test_nn, values_format=\".4g\", cmap=\"Blues\")\n",
    "\n",
    "# Creating assignments for Final Results\n",
    "tn, fp, fn, tp = confusion_matrix(y_test_nn == 1, y_preds_nn > 0.5).ravel()\n",
    "tn_nn = tn\n",
    "fp_nn = fp\n",
    "fn_nn = fn\n",
    "tp_nn = tp"
   ]
  },
  {
   "cell_type": "code",
   "execution_count": 78,
   "metadata": {},
   "outputs": [],
   "source": [
    "\n",
    "# Making a copy of the dataset\n",
    "df_trees = data_2.copy()\n",
    "\n",
    "# Dividing the dataset in train (80%) and test (20%)\n",
    "train_set_dt, test_set_dt = train_test_split(df_trees, test_size = 0.2, random_state = seed)\n",
    "X_train_dt = train_set_dt.drop(['bad_loan'], axis = 1)\n",
    "y_train_dt = train_set_dt['bad_loan']\n",
    "X_test_dt = test_set_dt.drop(['bad_loan'], axis = 1)\n",
    "y_test_dt = test_set_dt['bad_loan']\n",
    "\n"
   ]
  },
  {
   "cell_type": "code",
   "execution_count": 81,
   "metadata": {},
   "outputs": [
    {
     "name": "stdout",
     "output_type": "stream",
     "text": [
      "CPU times: user 89.9 ms, sys: 5.78 ms, total: 95.7 ms\n",
      "Wall time: 113 ms\n"
     ]
    },
    {
     "data": {
      "text/html": [
       "<div>\n",
       "<style scoped>\n",
       "    .dataframe tbody tr th:only-of-type {\n",
       "        vertical-align: middle;\n",
       "    }\n",
       "\n",
       "    .dataframe tbody tr th {\n",
       "        vertical-align: top;\n",
       "    }\n",
       "\n",
       "    .dataframe thead th {\n",
       "        text-align: right;\n",
       "    }\n",
       "</style>\n",
       "<table border=\"1\" class=\"dataframe\">\n",
       "  <thead>\n",
       "    <tr style=\"text-align: right;\">\n",
       "      <th></th>\n",
       "      <th>value</th>\n",
       "    </tr>\n",
       "  </thead>\n",
       "  <tbody>\n",
       "    <tr>\n",
       "      <th>grade</th>\n",
       "      <td>0.232512</td>\n",
       "    </tr>\n",
       "    <tr>\n",
       "      <th>dti</th>\n",
       "      <td>0.202772</td>\n",
       "    </tr>\n",
       "    <tr>\n",
       "      <th>annual_inc</th>\n",
       "      <td>0.174761</td>\n",
       "    </tr>\n",
       "    <tr>\n",
       "      <th>revol_util</th>\n",
       "      <td>0.144591</td>\n",
       "    </tr>\n",
       "    <tr>\n",
       "      <th>total_rec_late_fee</th>\n",
       "      <td>0.090027</td>\n",
       "    </tr>\n",
       "    <tr>\n",
       "      <th>emp_length_num</th>\n",
       "      <td>0.039965</td>\n",
       "    </tr>\n",
       "    <tr>\n",
       "      <th>term_ 60 months</th>\n",
       "      <td>0.029768</td>\n",
       "    </tr>\n",
       "    <tr>\n",
       "      <th>last_delinq_none</th>\n",
       "      <td>0.014856</td>\n",
       "    </tr>\n",
       "    <tr>\n",
       "      <th>home_ownership_RENT</th>\n",
       "      <td>0.010104</td>\n",
       "    </tr>\n",
       "    <tr>\n",
       "      <th>purpose_major_purchase</th>\n",
       "      <td>0.008837</td>\n",
       "    </tr>\n",
       "    <tr>\n",
       "      <th>home_ownership_MORTGAGE</th>\n",
       "      <td>0.008833</td>\n",
       "    </tr>\n",
       "    <tr>\n",
       "      <th>purpose_small_business</th>\n",
       "      <td>0.007263</td>\n",
       "    </tr>\n",
       "    <tr>\n",
       "      <th>home_ownership_OWN</th>\n",
       "      <td>0.006841</td>\n",
       "    </tr>\n",
       "    <tr>\n",
       "      <th>term_ 36 months</th>\n",
       "      <td>0.005545</td>\n",
       "    </tr>\n",
       "    <tr>\n",
       "      <th>short_emp</th>\n",
       "      <td>0.005453</td>\n",
       "    </tr>\n",
       "    <tr>\n",
       "      <th>purpose_home_improvement</th>\n",
       "      <td>0.004917</td>\n",
       "    </tr>\n",
       "    <tr>\n",
       "      <th>purpose_other</th>\n",
       "      <td>0.004430</td>\n",
       "    </tr>\n",
       "    <tr>\n",
       "      <th>purpose_debt_consolidation</th>\n",
       "      <td>0.001998</td>\n",
       "    </tr>\n",
       "    <tr>\n",
       "      <th>purpose_house</th>\n",
       "      <td>0.001742</td>\n",
       "    </tr>\n",
       "    <tr>\n",
       "      <th>purpose_vacation</th>\n",
       "      <td>0.001697</td>\n",
       "    </tr>\n",
       "    <tr>\n",
       "      <th>purpose_wedding</th>\n",
       "      <td>0.001346</td>\n",
       "    </tr>\n",
       "    <tr>\n",
       "      <th>purpose_credit_card</th>\n",
       "      <td>0.000966</td>\n",
       "    </tr>\n",
       "    <tr>\n",
       "      <th>term_ 36 Months</th>\n",
       "      <td>0.000775</td>\n",
       "    </tr>\n",
       "    <tr>\n",
       "      <th>purpose_medical</th>\n",
       "      <td>0.000000</td>\n",
       "    </tr>\n",
       "    <tr>\n",
       "      <th>purpose_moving</th>\n",
       "      <td>0.000000</td>\n",
       "    </tr>\n",
       "    <tr>\n",
       "      <th>purpose_car</th>\n",
       "      <td>0.000000</td>\n",
       "    </tr>\n",
       "  </tbody>\n",
       "</table>\n",
       "</div>"
      ],
      "text/plain": [
       "                               value\n",
       "grade                       0.232512\n",
       "dti                         0.202772\n",
       "annual_inc                  0.174761\n",
       "revol_util                  0.144591\n",
       "total_rec_late_fee          0.090027\n",
       "emp_length_num              0.039965\n",
       "term_ 60 months             0.029768\n",
       "last_delinq_none            0.014856\n",
       "home_ownership_RENT         0.010104\n",
       "purpose_major_purchase      0.008837\n",
       "home_ownership_MORTGAGE     0.008833\n",
       "purpose_small_business      0.007263\n",
       "home_ownership_OWN          0.006841\n",
       "term_ 36 months             0.005545\n",
       "short_emp                   0.005453\n",
       "purpose_home_improvement    0.004917\n",
       "purpose_other               0.004430\n",
       "purpose_debt_consolidation  0.001998\n",
       "purpose_house               0.001742\n",
       "purpose_vacation            0.001697\n",
       "purpose_wedding             0.001346\n",
       "purpose_credit_card         0.000966\n",
       "term_ 36 Months             0.000775\n",
       "purpose_medical             0.000000\n",
       "purpose_moving              0.000000\n",
       "purpose_car                 0.000000"
      ]
     },
     "execution_count": 81,
     "metadata": {},
     "output_type": "execute_result"
    }
   ],
   "source": [
    "%%time\n",
    "clf_tree = tree.DecisionTreeClassifier(random_state = seed, max_depth = 10).fit(X_train_dt, y_train_dt)\n",
    "\n",
    "clf_tree.score(X_test_dt, y_test_dt)\n",
    "\n",
    "# Visualizing variables by importance\n",
    "important_features = pd.DataFrame(data = clf_tree.feature_importances_, index = X_train_dt.columns, columns = [\"value\"])\n",
    "important_features.sort_values(by = \"value\", ascending = False)"
   ]
  },
  {
   "cell_type": "code",
   "execution_count": 82,
   "metadata": {},
   "outputs": [
    {
     "name": "stdout",
     "output_type": "stream",
     "text": [
      "0.6487785011560079\n"
     ]
    },
    {
     "data": {
      "image/png": "[encoded data removed]",
      "text/plain": [
       "<Figure size 432x288 with 1 Axes>"
      ]
     },
     "metadata": {
      "needs_background": "light"
     },
     "output_type": "display_data"
    }
   ],
   "source": [
    "y_preds_dt = clf_tree.predict_proba(X_test_dt)[:,1]\n",
    "\n",
    "auc_roc_plot(y_test_dt, y_preds_dt)"
   ]
  },
  {
   "cell_type": "code",
   "execution_count": 90,
   "metadata": {},
   "outputs": [
    {
     "name": "stderr",
     "output_type": "stream",
     "text": [
      "/Users/liamoleary/opt/anaconda3/lib/python3.9/site-packages/sklearn/utils/deprecation.py:87: FutureWarning:\n",
      "\n",
      "Function plot_confusion_matrix is deprecated; Function `plot_confusion_matrix` is deprecated in 1.0 and will be removed in 1.2. Use one of the class methods: ConfusionMatrixDisplay.from_predictions or ConfusionMatrixDisplay.from_estimator.\n",
      "\n"
     ]
    },
    {
     "data": {
      "image/png": "[encoded data removed]",
      "text/plain": [
       "<Figure size 432x288 with 2 Axes>"
      ]
     },
     "metadata": {
      "needs_background": "light"
     },
     "output_type": "display_data"
    }
   ],
   "source": [
    "# Confusion Matrix display\n",
    "plot_confusion_matrix(clf_tree, X_test_dt, y_test_dt, values_format=\".4g\", cmap=\"Blues\");\n",
    "\n",
    "# Creating assignments Final Results\n",
    "tn, fp, fn, tp = confusion_matrix(y_test_dt == 1, y_preds_dt > 0.5).ravel()\n",
    "tn_dt = tn\n",
    "fp_dt = fp\n",
    "fn_dt = fn\n",
    "tp_dt = tp"
   ]
  },
  {
   "cell_type": "code",
   "execution_count": 92,
   "metadata": {},
   "outputs": [
    {
     "data": {
      "text/html": [
       "<div>\n",
       "<style scoped>\n",
       "    .dataframe tbody tr th:only-of-type {\n",
       "        vertical-align: middle;\n",
       "    }\n",
       "\n",
       "    .dataframe tbody tr th {\n",
       "        vertical-align: top;\n",
       "    }\n",
       "\n",
       "    .dataframe thead th {\n",
       "        text-align: right;\n",
       "    }\n",
       "</style>\n",
       "<table border=\"1\" class=\"dataframe\">\n",
       "  <thead>\n",
       "    <tr style=\"text-align: right;\">\n",
       "      <th>Classifier</th>\n",
       "      <th>AUC ROC (%)</th>\n",
       "      <th>TN (%)</th>\n",
       "      <th>FP (%)</th>\n",
       "      <th>FN (%)</th>\n",
       "      <th>TP (%)</th>\n",
       "    </tr>\n",
       "  </thead>\n",
       "  <tbody>\n",
       "    <tr>\n",
       "      <th>Logistic Regression (LR)</th>\n",
       "      <td>5.333</td>\n",
       "      <td>51.896</td>\n",
       "      <td>26.34</td>\n",
       "      <td>7.25</td>\n",
       "      <td>13.85</td>\n",
       "    </tr>\n",
       "    <tr>\n",
       "      <th>Decision Trees (DT)</th>\n",
       "      <td>6.555</td>\n",
       "      <td>74.292</td>\n",
       "      <td>3.94</td>\n",
       "      <td>18.50</td>\n",
       "      <td>2.60</td>\n",
       "    </tr>\n",
       "    <tr>\n",
       "      <th>Neural Networks (NN)</th>\n",
       "      <td>72.666</td>\n",
       "      <td>77.427</td>\n",
       "      <td>0.81</td>\n",
       "      <td>19.64</td>\n",
       "      <td>1.47</td>\n",
       "    </tr>\n",
       "  </tbody>\n",
       "</table>\n",
       "</div>"
      ],
      "text/plain": [
       "Classifier                AUC ROC (%)  TN (%)  FP (%)  FN (%)  TP (%)\n",
       "Logistic Regression (LR)        5.333  51.896   26.34    7.25   13.85\n",
       "Decision Trees (DT)             6.555  74.292    3.94   18.50    2.60\n",
       "Neural Networks (NN)           72.666  77.427    0.81   19.64    1.47"
      ]
     },
     "execution_count": 92,
     "metadata": {},
     "output_type": "execute_result"
    }
   ],
   "source": [
    "# Creating performance table\n",
    "#aucroclr = 5.333\n",
    "#aucrocdt = 6.555\n",
    "#aucrocnn = 72.666\n",
    "\n",
    "\n",
    "results_1 = {'Classifier': ['AUC ROC (%)','TN (%)','FP (%)','FN (%)','TP (%)'],\n",
    "'Logistic Regression (LR)': [aucroclr, (tn_lr/3956*100).round(3), (fp_lr/3956*100).round(2), (fn_lr/3956*100).round(2), (tp_lr/3956*100).round(2)],\n",
    "'Decision Trees (DT)': [aucrocdt, (tn_dt/3956*100).round(3), (fp_dt/3956*100).round(2), (fn_dt/3956*100).round(2),(tp_dt/3956*100).round(2)],\n",
    "'Neural Networks (NN)': [aucrocnn, (tn_nn/3956*100).round(3), (fp_nn/3956*100).round(2),(fn_nn/3956*100).round(2),(tp_nn/3956*100).round(2)]}\n",
    "\n",
    "df1 = pd.DataFrame(results_1, columns = ['Classifier', 'Logistic Regression (LR)', 'Decision Trees (DT)', 'Neural Networks (NN)'])\n",
    "df1.set_index(\"Classifier\", inplace=True)\n",
    "results = df1.T\n",
    "results"
   ]
  },
  {
   "cell_type": "code",
   "execution_count": 94,
   "metadata": {},
   "outputs": [
    {
     "data": {
      "image/png": "[encoded data removed]",
      "text/plain": [
       "<Figure size 864x576 with 1 Axes>"
      ]
     },
     "metadata": {
      "needs_background": "light"
     },
     "output_type": "display_data"
    }
   ],
   "source": [
    "\n",
    "results_2 = {'Classifier': ['ROC AUC'], 'Logistic Regression (LR)': [aucroclr], 'Decision Trees (DT)': [aucrocdt], 'Neural Networks (NN)': [aucrocnn]}\n",
    "df2 = pd.DataFrame(results_2, columns = ['Classifier', 'Logistic Regression (LR)', 'Decision Trees (DT)', 'Neural Networks (NN)'])\n",
    "df2.set_index(\"Classifier\", inplace=True)\n",
    "results_2 = df2\n",
    "\n",
    "# Display tHe graph\n",
    "ax = results_2.plot(kind=\"bar\", title=(\"Evaluating models' performance\"), figsize=(12,8) ,fontsize=10, grid=True)\n",
    "for p in ax.patches:\n",
    "    ax.annotate(\"%.2f\" % p.get_height(), (p.get_x() + p.get_width() / 2., p.get_height()), ha='center', va='center', xytext=(0, 5), textcoords='offset points')\n",
    "plt.legend(fontsize=8.5, loc=\"upper right\")\n",
    "plt.xlabel('')\n",
    "plt.xticks(rotation='horizontal')\n",
    "plt.ylabel('Relative frequency (%)')\n",
    "plt.show()"
   ]
  }
 ],
 "metadata": {
  "kernelspec": {
   "display_name": "Python 3.9.12 ('base')",
   "language": "python",
   "name": "python3"
  },
  "language_info": {
   "codemirror_mode": {
    "name": "ipython",
    "version": 3
   },
   "file_extension": ".py",
   "mimetype": "text/x-python",
   "name": "python",
   "nbconvert_exporter": "python",
   "pygments_lexer": "ipython3",
   "version": "3.9.12"
  },
  "orig_nbformat": 4,
  "vscode": {
   "interpreter": {
    "hash": "949774df21c799e4cf5d36b5f52f7c71a2d6034f3fe18a36e6ab269ce2b4348b"
   }
  }
 },
 "nbformat": 4,
 "nbformat_minor": 2
}
